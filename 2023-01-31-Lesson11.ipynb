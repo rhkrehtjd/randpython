{
 "cells": [
  {
   "cell_type": "raw",
   "id": "fc5662c4-b09e-4325-a11f-c765d9a03e95",
   "metadata": {},
   "source": [
    "---\n",
    "title: \"Lesson 11: lambda, map\"\n",
    "author: \"최규빈\"\n",
    "date: \"01/31/2023\"\n",
    "---"
   ]
  },
  {
   "cell_type": "markdown",
   "id": "b2d560c7-0da8-4ff2-b252-65b2a7bbf709",
   "metadata": {},
   "source": [
    "<a href=\"https://colab.research.google.com/github/guebin/IP2023WIN/blob/main/posts/Day2/06_Functions, ControlFlow/2023-01-31-Lesson11.ipynb\"><img src=\"https://colab.research.google.com/assets/colab-badge.svg\" style=\"text-align: left\"></a>"
   ]
  },
  {
   "cell_type": "markdown",
   "id": "1d9a8a3b",
   "metadata": {},
   "source": [
    "# ref"
   ]
  },
  {
   "cell_type": "markdown",
   "id": "d1feec3b",
   "metadata": {},
   "source": [
    "<https://guebin.github.io/DV2022/posts/2022-10-12-6wk-12.html>"
   ]
  },
  {
   "cell_type": "markdown",
   "id": "d9c68cbc-8cdc-47fd-b9bc-daadbc8a6c53",
   "metadata": {},
   "source": [
    "# imports"
   ]
  },
  {
   "cell_type": "code",
   "execution_count": 196,
   "id": "c85bf122-ebe4-4be2-af24-9f6ef0844fc3",
   "metadata": {
    "vscode": {
     "languageId": "python"
    }
   },
   "outputs": [],
   "source": [
    "import numpy as np\n",
    "import pandas as pd\n",
    "import matplotlib.pyplot as plt"
   ]
  },
  {
   "cell_type": "markdown",
   "id": "be683c2d-2b5d-4d43-834b-a97e184b2f5a",
   "metadata": {
    "tags": []
   },
   "source": [
    "# lambda, map ($\\star$)"
   ]
  },
  {
   "cell_type": "markdown",
   "id": "8bb1c1f8-efa2-4d73-85d4-e04f06462a60",
   "metadata": {},
   "source": [
    "## lambda "
   ]
  },
  {
   "cell_type": "markdown",
   "id": "a77ebc1c-88e0-4047-acf5-cbda67fa14eb",
   "metadata": {},
   "source": [
    "`-` 예제1: 람다표현식(lambda expression)자체가 하나의 오브젝트임 "
   ]
  },
  {
   "cell_type": "code",
   "execution_count": 2,
   "id": "75245ecf-61bd-4921-b6c5-93d9f9cd4ae2",
   "metadata": {
    "vscode": {
     "languageId": "python"
    }
   },
   "outputs": [
    {
     "data": {
      "text/plain": [
       "<function __main__.<lambda>(x)>"
      ]
     },
     "execution_count": 2,
     "metadata": {},
     "output_type": "execute_result"
    }
   ],
   "source": [
    "lambda x: (x-2)**2 ### lambda x: (x-2)**2 가 실행되는 순간 메모리상에 함수 오브젝트가 저장됨 "
   ]
  },
  {
   "cell_type": "markdown",
   "id": "ab3a388a-7fa3-49e2-93d8-ff2e48f0b47d",
   "metadata": {},
   "source": [
    "- \"lambda x: (x-2)**2\" 는 $lambda(x)=(x-2)^2$의 느낌으로 기억하면 쉬움 "
   ]
  },
  {
   "cell_type": "markdown",
   "id": "78013c6c-16f2-44c9-9abb-5fee3fc5573d",
   "metadata": {},
   "source": [
    "**(사용방법)**"
   ]
  },
  {
   "cell_type": "code",
   "execution_count": 192,
   "id": "325475f7-0ade-4309-bece-a6f1b3e8debe",
   "metadata": {
    "vscode": {
     "languageId": "python"
    }
   },
   "outputs": [
    {
     "data": {
      "text/plain": [
       "0"
      ]
     },
     "execution_count": 192,
     "metadata": {},
     "output_type": "execute_result"
    }
   ],
   "source": [
    "(lambda x: (x-2)**2)(2) # 입력2 -> 출력 (2-2)^2 =0 "
   ]
  },
  {
   "cell_type": "code",
   "execution_count": 10,
   "id": "9ac50596-b3de-41a6-b05d-cc90c72620da",
   "metadata": {
    "vscode": {
     "languageId": "python"
    }
   },
   "outputs": [
    {
     "data": {
      "text/plain": [
       "9"
      ]
     },
     "execution_count": 10,
     "metadata": {},
     "output_type": "execute_result"
    }
   ],
   "source": [
    "(lambda x: (x-2)**2)(5) # 입력5 -> 출력 (5-2)^2 =9"
   ]
  },
  {
   "cell_type": "code",
   "execution_count": 11,
   "id": "c598aa3c-8e77-4650-b0f6-920c1a23c2fa",
   "metadata": {
    "vscode": {
     "languageId": "python"
    }
   },
   "outputs": [
    {
     "data": {
      "text/plain": [
       "16"
      ]
     },
     "execution_count": 11,
     "metadata": {},
     "output_type": "execute_result"
    }
   ],
   "source": [
    "(lambda x: (x-2)**2)(6) # 입력6 -> 출력 (6-2)^2 =16"
   ]
  },
  {
   "cell_type": "code",
   "execution_count": 12,
   "id": "78346bec-d935-4097-9a8a-437b962d7066",
   "metadata": {
    "vscode": {
     "languageId": "python"
    }
   },
   "outputs": [
    {
     "data": {
      "text/plain": [
       "16"
      ]
     },
     "execution_count": 12,
     "metadata": {},
     "output_type": "execute_result"
    }
   ],
   "source": [
    "(lambda x: (x-2)**2)(-2) # 입력-2 -> 출력 (-2-2)^2 =16"
   ]
  },
  {
   "cell_type": "markdown",
   "id": "a091ea62-beaa-43dc-b96e-c0b57fc6b4a4",
   "metadata": {},
   "source": [
    "**Quiz**"
   ]
  },
  {
   "cell_type": "markdown",
   "id": "7d004b9e-3bb6-4faf-a8c2-6cf5831a351e",
   "metadata": {},
   "source": [
    "$f(x)=\\sqrt{x}$ 를 수행하는 함수를 lambda를 이용하여 구성하라. "
   ]
  },
  {
   "cell_type": "markdown",
   "id": "8adb3325-35a2-4a78-8c15-746d115509fa",
   "metadata": {},
   "source": [
    "`-` 예제2: 람다표현식에 이름을 줄 수 있음. "
   ]
  },
  {
   "cell_type": "code",
   "execution_count": 196,
   "id": "71c53a02-94cf-49eb-9bfd-08aaa425d127",
   "metadata": {
    "vscode": {
     "languageId": "python"
    }
   },
   "outputs": [],
   "source": [
    "f = lambda x: (x-2)**2"
   ]
  },
  {
   "cell_type": "code",
   "execution_count": 197,
   "id": "0eac4cd0-ad8a-4229-ab9c-e3360baa52c9",
   "metadata": {
    "vscode": {
     "languageId": "python"
    }
   },
   "outputs": [
    {
     "data": {
      "text/plain": [
       "(0, 4, 16, 16)"
      ]
     },
     "execution_count": 197,
     "metadata": {},
     "output_type": "execute_result"
    }
   ],
   "source": [
    "f(2),f(4),f(6),f(-2)"
   ]
  },
  {
   "cell_type": "markdown",
   "id": "dbb06dec-8f5a-49f3-9815-c626b6cabd83",
   "metadata": {},
   "source": [
    "위의 코드는 아래와 같다. "
   ]
  },
  {
   "cell_type": "code",
   "execution_count": 198,
   "id": "6efb250e-7c59-4508-839c-9be3b97a078f",
   "metadata": {
    "vscode": {
     "languageId": "python"
    }
   },
   "outputs": [
    {
     "data": {
      "text/plain": [
       "(0, 4, 16, 16)"
      ]
     },
     "execution_count": 198,
     "metadata": {},
     "output_type": "execute_result"
    }
   ],
   "source": [
    "def f(x):\n",
    "    return (x-2)**2\n",
    "f(2),f(4),f(6),f(-2)"
   ]
  },
  {
   "cell_type": "markdown",
   "id": "6ee30c55-865c-4ee9-bc2f-b10f5c707653",
   "metadata": {},
   "source": [
    "`-` 예제3: 조건부 출력"
   ]
  },
  {
   "cell_type": "code",
   "execution_count": 32,
   "id": "5aa8270b-59cf-4a4a-a89d-557cb0044e9f",
   "metadata": {
    "vscode": {
     "languageId": "python"
    }
   },
   "outputs": [],
   "source": [
    "f = lambda x,y: x if x>y else y # x,y가 입력 -> x>y 일때만 x를 리턴하고 그렇지않으면 y를 리턴 = 큰값을 리턴하라는 소리임 "
   ]
  },
  {
   "cell_type": "code",
   "execution_count": 33,
   "id": "65c1d4d8-d0d2-4a23-beab-55dda63ccf7f",
   "metadata": {
    "vscode": {
     "languageId": "python"
    }
   },
   "outputs": [
    {
     "data": {
      "text/plain": [
       "20"
      ]
     },
     "execution_count": 33,
     "metadata": {},
     "output_type": "execute_result"
    }
   ],
   "source": [
    "f(1,20)"
   ]
  },
  {
   "cell_type": "markdown",
   "id": "b7a9ef3a-c3d7-4f1c-9e8e-7b1f25abe327",
   "metadata": {},
   "source": [
    "**Quiz**"
   ]
  },
  {
   "cell_type": "markdown",
   "id": "6fcfa3fb-ee91-4959-bc51-0f6067597a06",
   "metadata": {},
   "source": [
    "임의의 알파벳 문자열을 입력으로 하고, 알파벳이 대문자이면 \"대문자 입니다\"를 출력하고 소문자이면 \"소문자 입니다\"를 출력하는 함수를 구성하라. "
   ]
  },
  {
   "cell_type": "markdown",
   "id": "db3532f7-7107-46ec-a780-27d0929f11bc",
   "metadata": {},
   "source": [
    "(힌트) 아래코드 이용 "
   ]
  },
  {
   "cell_type": "code",
   "execution_count": 54,
   "id": "214b5b26-ab28-44a2-be54-4fec74c1394e",
   "metadata": {
    "vscode": {
     "languageId": "python"
    }
   },
   "outputs": [
    {
     "data": {
      "text/plain": [
       "False"
      ]
     },
     "execution_count": 54,
     "metadata": {},
     "output_type": "execute_result"
    }
   ],
   "source": [
    "'a'.isupper()"
   ]
  },
  {
   "cell_type": "markdown",
   "id": "6801b47a-4c10-4494-b5d0-cacb844236a8",
   "metadata": {},
   "source": [
    "`-` 예제4: 람다표현식들의 리스트 "
   ]
  },
  {
   "cell_type": "code",
   "execution_count": 67,
   "id": "1d5f4346-5eb6-4e07-b7cd-0f5373d5ac0a",
   "metadata": {
    "vscode": {
     "languageId": "python"
    }
   },
   "outputs": [],
   "source": [
    "fl = [lambda x: x, lambda x: x**2, lambda x: x**3]"
   ]
  },
  {
   "cell_type": "code",
   "execution_count": 102,
   "id": "e539d67b-8554-4f4a-a797-d52b556906ad",
   "metadata": {
    "vscode": {
     "languageId": "python"
    }
   },
   "outputs": [
    {
     "name": "stdout",
     "output_type": "stream",
     "text": [
      "2\n",
      "4\n",
      "8\n"
     ]
    }
   ],
   "source": [
    "for f in fl: \n",
    "    print(f(2))"
   ]
  },
  {
   "cell_type": "code",
   "execution_count": 92,
   "id": "8697886e-c116-4d42-b2f7-229044d87f77",
   "metadata": {
    "vscode": {
     "languageId": "python"
    }
   },
   "outputs": [
    {
     "data": {
      "image/png": "[encoded data removed]",
      "text/plain": [
       "<Figure size 432x288 with 1 Axes>"
      ]
     },
     "metadata": {
      "needs_background": "light"
     },
     "output_type": "display_data"
    }
   ],
   "source": [
    "x = np.linspace(-1,1,100)\n",
    "for f in fl:\n",
    "    plt.plot(x,f(x),'--') "
   ]
  },
  {
   "cell_type": "markdown",
   "id": "e6ae18ea-8a52-4ad4-af86-f12f29f23d6a",
   "metadata": {},
   "source": [
    "`-` 예제5: 람다표현식들의 딕셔너리 "
   ]
  },
  {
   "cell_type": "code",
   "execution_count": 115,
   "id": "d5a7b26e-ddf0-479e-9a53-db2ebc2d076e",
   "metadata": {
    "vscode": {
     "languageId": "python"
    }
   },
   "outputs": [
    {
     "data": {
      "text/plain": [
       "{'f1': <function __main__.<lambda>(x)>,\n",
       " 'f2': <function __main__.<lambda>(x)>,\n",
       " 'f3': <function __main__.<lambda>(x)>}"
      ]
     },
     "execution_count": 115,
     "metadata": {},
     "output_type": "execute_result"
    }
   ],
   "source": [
    "fd = {'f1':lambda x: x, 'f2':lambda x: x**2, 'f3':lambda x: x**3}\n",
    "fd"
   ]
  },
  {
   "cell_type": "code",
   "execution_count": 121,
   "id": "5b065b83-ef32-463a-b19c-95feba8836ac",
   "metadata": {
    "vscode": {
     "languageId": "python"
    }
   },
   "outputs": [
    {
     "data": {
      "image/png": "[encoded data removed]",
      "text/plain": [
       "<Figure size 432x288 with 1 Axes>"
      ]
     },
     "metadata": {
      "needs_background": "light"
     },
     "output_type": "display_data"
    }
   ],
   "source": [
    "for k in fd:\n",
    "    plt.plot(x,fd[k](x),'--')"
   ]
  },
  {
   "cell_type": "markdown",
   "id": "22ed8a71-247a-474a-94e3-2b553e087663",
   "metadata": {},
   "source": [
    "`-` 예제6: 람다표현식을 리턴하는 함수 (함수를 리턴하는 함수) "
   ]
  },
  {
   "cell_type": "markdown",
   "id": "5483be52-12cb-435a-a317-637cd497d0b1",
   "metadata": {},
   "source": [
    "(예비학습) 함수 $g(x)$가 정의되어 있을때 $\\frac{d}{dx}g(x)$의 값을 계산해보기 "
   ]
  },
  {
   "cell_type": "code",
   "execution_count": 132,
   "id": "b1715189-5940-4a34-849b-6f210fdc6ca8",
   "metadata": {
    "vscode": {
     "languageId": "python"
    }
   },
   "outputs": [],
   "source": [
    "g = lambda x: x**2 "
   ]
  },
  {
   "cell_type": "code",
   "execution_count": 133,
   "id": "b996a4b3-b233-4a30-990f-f5ee602d2eea",
   "metadata": {
    "vscode": {
     "languageId": "python"
    }
   },
   "outputs": [],
   "source": [
    "gg = lambda x : (g(x+0.001)-g(x))/0.001"
   ]
  },
  {
   "cell_type": "code",
   "execution_count": 134,
   "id": "e60e6826-8b2c-4339-a932-fa90e3cef38b",
   "metadata": {
    "vscode": {
     "languageId": "python"
    }
   },
   "outputs": [
    {
     "data": {
      "text/plain": [
       "8.0010000000037"
      ]
     },
     "execution_count": 134,
     "metadata": {},
     "output_type": "execute_result"
    }
   ],
   "source": [
    "gg(4)"
   ]
  },
  {
   "cell_type": "markdown",
   "id": "830f41e0-6ba8-480c-b50f-d16f67e4b264",
   "metadata": {},
   "source": [
    "(목표) 도함수를 구해주는 `derivate` 함수를 정의하자. 이 함수는 임의의 함수 g를 입력으로 받으면, g의 도함수(gg)가 리턴되는 기능을 가진다. "
   ]
  },
  {
   "cell_type": "code",
   "execution_count": 135,
   "id": "42cee1b6-6d65-4c99-b825-c19b45f45bf6",
   "metadata": {
    "vscode": {
     "languageId": "python"
    }
   },
   "outputs": [],
   "source": [
    "def derivate(g):\n",
    "    return lambda x : (g(x+0.001)-g(x))/0.001"
   ]
  },
  {
   "cell_type": "markdown",
   "id": "9ca6e9a7-25f0-4915-a2d0-4e6fd8fb773c",
   "metadata": {},
   "source": [
    "(사용1)"
   ]
  },
  {
   "cell_type": "code",
   "execution_count": 129,
   "id": "3d4a45c2-4210-4e96-98e7-cf8f37747d6e",
   "metadata": {
    "vscode": {
     "languageId": "python"
    }
   },
   "outputs": [],
   "source": [
    "gg = derivate(g) "
   ]
  },
  {
   "cell_type": "code",
   "execution_count": 212,
   "id": "23a4a41d-34d3-485e-be11-8d94118b96e4",
   "metadata": {
    "vscode": {
     "languageId": "python"
    }
   },
   "outputs": [],
   "source": [
    "x = np.linspace(0,6.28,1000) "
   ]
  },
  {
   "cell_type": "code",
   "execution_count": 213,
   "id": "ecdb4134-3da1-4436-a1e9-094666b41e97",
   "metadata": {
    "vscode": {
     "languageId": "python"
    }
   },
   "outputs": [
    {
     "data": {
      "text/plain": [
       "<matplotlib.legend.Legend at 0x7fa54cde3a50>"
      ]
     },
     "execution_count": 213,
     "metadata": {},
     "output_type": "execute_result"
    },
    {
     "data": {
      "image/png": "[encoded data removed]",
      "text/plain": [
       "<Figure size 432x288 with 1 Axes>"
      ]
     },
     "metadata": {
      "needs_background": "light"
     },
     "output_type": "display_data"
    }
   ],
   "source": [
    "plt.plot(x,g(x),label=r'$f(x)=sin(x)$')\n",
    "plt.plot(x,gg(x),label=r'$\\frac{d}{dx}f(x)=cos(x)$')\n",
    "plt.legend(fontsize=15)"
   ]
  },
  {
   "cell_type": "markdown",
   "id": "93dd203f-12db-4592-8ebf-e7dd6e419e52",
   "metadata": {},
   "source": [
    "(사용2)"
   ]
  },
  {
   "cell_type": "code",
   "execution_count": 146,
   "id": "df76518f-e315-4282-8fdf-58778323e9dc",
   "metadata": {
    "vscode": {
     "languageId": "python"
    }
   },
   "outputs": [],
   "source": [
    "g0 = lambda x: (1/6)*x**3\n",
    "g1 = derivate(g0) # (1/2)x^2 \n",
    "g2 = derivate(g1) # x "
   ]
  },
  {
   "cell_type": "code",
   "execution_count": 147,
   "id": "57cf4626-efc0-406f-b04f-6b2d016103a7",
   "metadata": {
    "vscode": {
     "languageId": "python"
    }
   },
   "outputs": [
    {
     "data": {
      "text/plain": [
       "<matplotlib.legend.Legend at 0x7f662b86ed10>"
      ]
     },
     "execution_count": 147,
     "metadata": {},
     "output_type": "execute_result"
    },
    {
     "data": {
      "image/png": "[encoded data removed]",
      "text/plain": [
       "<Figure size 432x288 with 1 Axes>"
      ]
     },
     "metadata": {
      "needs_background": "light"
     },
     "output_type": "display_data"
    }
   ],
   "source": [
    "x = np.linspace(-1,1,100)\n",
    "plt.plot(x,g0(x),'--',label=r'$g_0(x)=\\frac{1}{6}x^3$')\n",
    "plt.plot(x,g1(x),'--',label=r'$g_1(x)=\\frac{1}{2}x^2$')\n",
    "plt.plot(x,g2(x),'--',label=r'$g_2(x)=x$')\n",
    "plt.legend(fontsize=15)"
   ]
  },
  {
   "cell_type": "markdown",
   "id": "0a676a09-67dd-42a7-995a-98284f2ea798",
   "metadata": {},
   "source": [
    "`-` 예제7: 예제6의 다른표현 "
   ]
  },
  {
   "cell_type": "code",
   "execution_count": 148,
   "id": "cc3c8a73-418b-4d99-a76d-214f33f5ff23",
   "metadata": {
    "vscode": {
     "languageId": "python"
    }
   },
   "outputs": [],
   "source": [
    "derivate = lambda g: lambda x : (g(x+0.001)-g(x))/0.001"
   ]
  },
  {
   "cell_type": "markdown",
   "id": "ad42f3b2-71d3-4ffa-907f-b914425af8cd",
   "metadata": {},
   "source": [
    "(사용1)"
   ]
  },
  {
   "cell_type": "code",
   "execution_count": 149,
   "id": "48ae724c-9310-4f2e-8ddb-8ac8d415a26a",
   "metadata": {
    "vscode": {
     "languageId": "python"
    }
   },
   "outputs": [],
   "source": [
    "g = lambda x: np.sin(x) "
   ]
  },
  {
   "cell_type": "code",
   "execution_count": 150,
   "id": "a331f4b9-ff20-4cbb-93bd-d36bb0db88f8",
   "metadata": {
    "vscode": {
     "languageId": "python"
    }
   },
   "outputs": [],
   "source": [
    "gg = derivate(g) "
   ]
  },
  {
   "cell_type": "code",
   "execution_count": 151,
   "id": "5bef4af5-b7b0-42fb-9565-c1398ebd3f9f",
   "metadata": {
    "vscode": {
     "languageId": "python"
    }
   },
   "outputs": [],
   "source": [
    "x = np.linspace(0,6.28,1000) "
   ]
  },
  {
   "cell_type": "code",
   "execution_count": 152,
   "id": "9f18bafe-8ae9-4812-897e-944162a11611",
   "metadata": {
    "vscode": {
     "languageId": "python"
    }
   },
   "outputs": [
    {
     "data": {
      "text/plain": [
       "<matplotlib.legend.Legend at 0x7f662b5fef50>"
      ]
     },
     "execution_count": 152,
     "metadata": {},
     "output_type": "execute_result"
    },
    {
     "data": {
      "image/png": "[encoded data removed]",
      "text/plain": [
       "<Figure size 432x288 with 1 Axes>"
      ]
     },
     "metadata": {
      "needs_background": "light"
     },
     "output_type": "display_data"
    }
   ],
   "source": [
    "plt.plot(x,g(x),label=r'$f(x)=sin(x)$')\n",
    "plt.plot(x,gg(x),label=r'$\\frac{d}{dx}f(x)=cos(x)$')\n",
    "plt.legend(fontsize=15)"
   ]
  },
  {
   "cell_type": "markdown",
   "id": "3fb29f07-f2a4-4249-8f8a-5e3cfab32e58",
   "metadata": {},
   "source": [
    "(사용2)"
   ]
  },
  {
   "cell_type": "code",
   "execution_count": 153,
   "id": "97b993ca-3620-4805-abd3-5a99ffd715a8",
   "metadata": {
    "vscode": {
     "languageId": "python"
    }
   },
   "outputs": [],
   "source": [
    "g0 = lambda x: (1/6)*x**3\n",
    "g1 = derivate(g0) # (1/2)x^2 \n",
    "g2 = derivate(g1) # x "
   ]
  },
  {
   "cell_type": "code",
   "execution_count": 154,
   "id": "2d3361c4-657b-4d32-b117-d9657a8ccc0f",
   "metadata": {
    "vscode": {
     "languageId": "python"
    }
   },
   "outputs": [
    {
     "data": {
      "text/plain": [
       "<matplotlib.legend.Legend at 0x7f662b4e78d0>"
      ]
     },
     "execution_count": 154,
     "metadata": {},
     "output_type": "execute_result"
    },
    {
     "data": {
      "image/png": "[encoded data removed]",
      "text/plain": [
       "<Figure size 432x288 with 1 Axes>"
      ]
     },
     "metadata": {
      "needs_background": "light"
     },
     "output_type": "display_data"
    }
   ],
   "source": [
    "x = np.linspace(-1,1,100)\n",
    "plt.plot(x,g0(x),'--',label=r'$g_0(x)=\\frac{1}{6}x^3$')\n",
    "plt.plot(x,g1(x),'--',label=r'$g_1(x)=\\frac{1}{2}x^2$')\n",
    "plt.plot(x,g2(x),'--',label=r'$g_2(x)=x$')\n",
    "plt.legend(fontsize=15)"
   ]
  },
  {
   "cell_type": "markdown",
   "id": "ce3cea2f-8c54-44ed-9321-5b3468aea6c0",
   "metadata": {},
   "source": [
    "## map "
   ]
  },
  {
   "cell_type": "markdown",
   "id": "6e798cc8-f82c-4936-83bc-8453ef4e4467",
   "metadata": {},
   "source": [
    "`-` 개념: $\\text{map}\\left(f,[x_1,x_2,\\dots,x_n] \\right)=\\left[f(x_1),f(x_2),\\dots,f(x_n) \\right] $"
   ]
  },
  {
   "cell_type": "markdown",
   "id": "8713f497-2545-427b-a8f4-b332e828ed37",
   "metadata": {},
   "source": [
    "`-` 예제1: "
   ]
  },
  {
   "cell_type": "code",
   "execution_count": 166,
   "id": "85c3e321-2141-45b9-9331-7ea8db420397",
   "metadata": {
    "vscode": {
     "languageId": "python"
    }
   },
   "outputs": [],
   "source": [
    "x = [1,2,3] \n",
    "f = lambda x: x+1 \n",
    "y = list(map(f,x))"
   ]
  },
  {
   "cell_type": "markdown",
   "id": "9471e692-fc1e-4266-81f3-2d04140753ab",
   "metadata": {},
   "source": [
    "(다른구현1)"
   ]
  },
  {
   "cell_type": "code",
   "execution_count": 136,
   "id": "bffd6eca-0b2d-4cf2-bd14-77db489fd436",
   "metadata": {
    "vscode": {
     "languageId": "python"
    }
   },
   "outputs": [
    {
     "data": {
      "text/plain": [
       "[2, 3, 4]"
      ]
     },
     "execution_count": 136,
     "metadata": {},
     "output_type": "execute_result"
    }
   ],
   "source": [
    "list(map(lambda x: x+1,[1,2,3]))"
   ]
  },
  {
   "cell_type": "markdown",
   "id": "6c555343-8547-4935-a481-35f77ca28ae3",
   "metadata": {},
   "source": [
    "(다른구현2)"
   ]
  },
  {
   "cell_type": "code",
   "execution_count": 176,
   "id": "8c11a8e6-625b-457a-92a6-be6d693ccc8d",
   "metadata": {
    "vscode": {
     "languageId": "python"
    }
   },
   "outputs": [
    {
     "data": {
      "text/plain": [
       "[2, 3, 4]"
      ]
     },
     "execution_count": 176,
     "metadata": {},
     "output_type": "execute_result"
    }
   ],
   "source": [
    "f = lambda x: x+1 \n",
    "[f(xi) for xi in [1,2,3]]"
   ]
  },
  {
   "cell_type": "markdown",
   "id": "5a798110-d206-4b0e-be4e-ba6171bd5f44",
   "metadata": {},
   "source": [
    "(다른구현3)"
   ]
  },
  {
   "cell_type": "code",
   "execution_count": 140,
   "id": "c2a523c5-a5c5-4ba0-83f4-c9b99db7d130",
   "metadata": {
    "vscode": {
     "languageId": "python"
    }
   },
   "outputs": [
    {
     "data": {
      "text/plain": [
       "[2, 3, 4]"
      ]
     },
     "execution_count": 140,
     "metadata": {},
     "output_type": "execute_result"
    }
   ],
   "source": [
    "[(lambda x: x+1)(xi) for xi in [1,2,3]]"
   ]
  },
  {
   "cell_type": "markdown",
   "id": "9bff635e-2388-4886-b0e1-ad5031303833",
   "metadata": {},
   "source": [
    "(다른구현4)--최악"
   ]
  },
  {
   "cell_type": "code",
   "execution_count": 178,
   "id": "eb565af8-cf95-41e7-b27d-d3a5c82b4fd3",
   "metadata": {
    "vscode": {
     "languageId": "python"
    }
   },
   "outputs": [],
   "source": [
    "y = [] \n",
    "x = [1,2,3] \n",
    "f = lambda x: x+1 \n",
    "for xi in x:\n",
    "    y.append(f(xi))"
   ]
  },
  {
   "cell_type": "code",
   "execution_count": 179,
   "id": "3b67d153-279c-447f-8b16-6b3ece3f5f1f",
   "metadata": {
    "vscode": {
     "languageId": "python"
    }
   },
   "outputs": [
    {
     "data": {
      "text/plain": [
       "[2, 3, 4]"
      ]
     },
     "execution_count": 179,
     "metadata": {},
     "output_type": "execute_result"
    }
   ],
   "source": [
    "y"
   ]
  },
  {
   "cell_type": "markdown",
   "id": "ffec1225-31c7-4664-9910-b38ab6d616db",
   "metadata": {},
   "source": [
    "(다른구현5)--더 최악"
   ]
  },
  {
   "cell_type": "code",
   "execution_count": 143,
   "id": "dd028d4a-4989-4f1d-b639-6dc5b8fee6fb",
   "metadata": {
    "vscode": {
     "languageId": "python"
    }
   },
   "outputs": [],
   "source": [
    "y = [] \n",
    "x = [1,2,3] \n",
    "f = lambda x: x+1 \n",
    "for i in range(len(x)):\n",
    "    y.append(f(x[i]))"
   ]
  },
  {
   "cell_type": "code",
   "execution_count": 144,
   "id": "0dd61748-2122-43ce-a879-e3591038aeed",
   "metadata": {
    "vscode": {
     "languageId": "python"
    }
   },
   "outputs": [
    {
     "data": {
      "text/plain": [
       "[2, 3, 4]"
      ]
     },
     "execution_count": 144,
     "metadata": {},
     "output_type": "execute_result"
    }
   ],
   "source": [
    "y"
   ]
  },
  {
   "cell_type": "markdown",
   "id": "0d273609-7634-4dad-a918-b8f199c3269e",
   "metadata": {},
   "source": [
    "**Quiz**"
   ]
  },
  {
   "cell_type": "markdown",
   "id": "43a7febf-5bcd-4319-8ba7-2e865f4facdc",
   "metadata": {},
   "source": [
    "$x=[1,2,3,4,5]$에 대하여 $x^2$을 수행하는 함수를 구현하라. "
   ]
  },
  {
   "cell_type": "markdown",
   "id": "f9f838ff-7172-4100-88d6-0d8d93d506f5",
   "metadata": {},
   "source": [
    "`-` 예제2: 문자열을 입력으로 받고 대문자이면 True, 소문자이면 False \n",
    "```\n",
    "입력: A,B,C,a,b,c\n",
    "출력: T,T,T,F,F,F\n",
    "```"
   ]
  },
  {
   "cell_type": "code",
   "execution_count": 210,
   "id": "56544d74-bd03-4f29-9313-6737ec673521",
   "metadata": {
    "vscode": {
     "languageId": "python"
    }
   },
   "outputs": [],
   "source": [
    "x= list('ABCabc')\n",
    "# x = ['A','B','C','a','b','c']\n",
    "f = lambda s: s.isupper()\n",
    "y = list(map(f,x))"
   ]
  },
  {
   "cell_type": "code",
   "execution_count": 211,
   "id": "bb421e54-2b8a-4c4b-abcd-7ba64d18f83d",
   "metadata": {
    "vscode": {
     "languageId": "python"
    }
   },
   "outputs": [
    {
     "data": {
      "text/plain": [
       "(['A', 'B', 'C', 'a', 'b', 'c'], [True, True, True, False, False, False])"
      ]
     },
     "execution_count": 211,
     "metadata": {},
     "output_type": "execute_result"
    }
   ],
   "source": [
    "x,y"
   ]
  },
  {
   "cell_type": "markdown",
   "id": "1e0e8260-c0de-4d31-96af-f6fc18d6b7fc",
   "metadata": {},
   "source": [
    "`-` 예제3: 두개의 입력을 받는 함수 (map을 이용하는 것이 리스트 컴프리헨션보다 조금 편한것 같다) "
   ]
  },
  {
   "cell_type": "code",
   "execution_count": 268,
   "id": "14030c67-409f-4745-ac2f-757944b89689",
   "metadata": {
    "vscode": {
     "languageId": "python"
    }
   },
   "outputs": [
    {
     "data": {
      "text/plain": [
       "[0, 0, 0]"
      ]
     },
     "execution_count": 268,
     "metadata": {},
     "output_type": "execute_result"
    }
   ],
   "source": [
    "list(map(lambda x,y: x+y, [1,2,3],[-1,-2,-3]))"
   ]
  },
  {
   "cell_type": "markdown",
   "id": "06f46de2-2f7d-466d-b96a-513b3cb3ef7d",
   "metadata": {},
   "source": [
    "(다른구현)-- 리스트컴프리헨션 "
   ]
  },
  {
   "cell_type": "code",
   "execution_count": 269,
   "id": "55e3261f-f6f3-4366-b02c-aa97a04edcda",
   "metadata": {
    "vscode": {
     "languageId": "python"
    }
   },
   "outputs": [
    {
     "data": {
      "text/plain": [
       "[0, 0, 0]"
      ]
     },
     "execution_count": 269,
     "metadata": {},
     "output_type": "execute_result"
    }
   ],
   "source": [
    "f = lambda x,y: x+y \n",
    "[f(x,y) for x,y in zip([1,2,3],[-1,-2,-3])] "
   ]
  },
  {
   "cell_type": "markdown",
   "id": "196402c1-3812-4f8b-a31f-066a202c9609",
   "metadata": {},
   "source": [
    "**quiz**"
   ]
  },
  {
   "cell_type": "code",
   "execution_count": 216,
   "id": "ee95f407-207e-41f2-9354-5a091e16cad6",
   "metadata": {
    "vscode": {
     "languageId": "python"
    }
   },
   "outputs": [],
   "source": [
    "t=np.linspace(-3.14,3.14,100)\n",
    "x=np.sin(t)\n",
    "y=np.cos(t)"
   ]
  },
  {
   "cell_type": "code",
   "execution_count": 218,
   "id": "228495ac-71e3-4c16-aaea-5bd9654e48a0",
   "metadata": {
    "vscode": {
     "languageId": "python"
    }
   },
   "outputs": [
    {
     "data": {
      "text/plain": [
       "[<matplotlib.lines.Line2D at 0x7f662b1b3790>]"
      ]
     },
     "execution_count": 218,
     "metadata": {},
     "output_type": "execute_result"
    },
    {
     "data": {
      "image/png": "[encoded data removed]",
      "text/plain": [
       "<Figure size 432x288 with 1 Axes>"
      ]
     },
     "metadata": {
      "needs_background": "light"
     },
     "output_type": "display_data"
    }
   ],
   "source": [
    "plt.plot(t,x)\n",
    "plt.plot(t,y)"
   ]
  },
  {
   "cell_type": "markdown",
   "id": "3237674b-279e-4deb-a21c-ff55c3fec319",
   "metadata": {},
   "source": [
    "$f(x,y) = max(x,y)$ 를 구현하여 ${\\bf x}$,${\\bf y}$ 각 원소에 적용하고 결과를 시각화 하라. "
   ]
  },
  {
   "cell_type": "code",
   "execution_count": 231,
   "id": "9be59fd0-984f-4606-bf11-fa259767eca2",
   "metadata": {
    "vscode": {
     "languageId": "python"
    }
   },
   "outputs": [
    {
     "data": {
      "text/plain": [
       "4"
      ]
     },
     "execution_count": 231,
     "metadata": {},
     "output_type": "execute_result"
    }
   ],
   "source": [
    "f = (lambda x,y: max(x,y))\n",
    "f(3,4)"
   ]
  },
  {
   "cell_type": "code",
   "execution_count": 236,
   "id": "4788b92a-370d-48c5-958c-c0a883c6de76",
   "metadata": {
    "vscode": {
     "languageId": "python"
    }
   },
   "outputs": [],
   "source": [
    "z= list(map(f,x,y))"
   ]
  },
  {
   "cell_type": "code",
   "execution_count": 238,
   "id": "bb237cbb-8b05-4dd3-b398-56429e26ea54",
   "metadata": {
    "vscode": {
     "languageId": "python"
    }
   },
   "outputs": [
    {
     "data": {
      "text/plain": [
       "[<matplotlib.lines.Line2D at 0x7f662b3d5b50>]"
      ]
     },
     "execution_count": 238,
     "metadata": {},
     "output_type": "execute_result"
    },
    {
     "data": {
      "image/png": "[encoded data removed]",
      "text/plain": [
       "<Figure size 432x288 with 1 Axes>"
      ]
     },
     "metadata": {
      "needs_background": "light"
     },
     "output_type": "display_data"
    }
   ],
   "source": [
    "plt.plot(t,z)"
   ]
  },
  {
   "cell_type": "markdown",
   "id": "db45869c-ae67-486d-a07d-cb24424aa332",
   "metadata": {},
   "source": [
    "`-` 예제4: map은 \"하나의 함수에 다양한 입력\"을 적용하는 경우에만 사용가능, 리스트컴프리헨션은 \"다양한 함수에 다양한 입력\" 지원 "
   ]
  },
  {
   "cell_type": "code",
   "execution_count": 239,
   "id": "db9ddd88-83bb-43f9-81bc-03fa5e81bcc4",
   "metadata": {
    "vscode": {
     "languageId": "python"
    }
   },
   "outputs": [],
   "source": [
    "flst = [lambda x: x+1, lambda x: x+2, lambda x:x+3] "
   ]
  },
  {
   "cell_type": "markdown",
   "id": "ba4d56c8-f643-43a4-b039-875ea88facf5",
   "metadata": {},
   "source": [
    "map으로 구현시도 $\\to$ 실패 "
   ]
  },
  {
   "cell_type": "code",
   "execution_count": 259,
   "id": "2825a705-084a-4bce-8e1f-da91539ae0cf",
   "metadata": {
    "vscode": {
     "languageId": "python"
    }
   },
   "outputs": [
    {
     "ename": "TypeError",
     "evalue": "'list' object is not callable",
     "output_type": "error",
     "traceback": [
      "\u001b[0;31m---------------------------------------------------------------------------\u001b[0m",
      "\u001b[0;31mTypeError\u001b[0m                                 Traceback (most recent call last)",
      "\u001b[0;32m<ipython-input-259-d48bf8019ad0>\u001b[0m in \u001b[0;36m<module>\u001b[0;34m\u001b[0m\n\u001b[0;32m----> 1\u001b[0;31m \u001b[0mlist\u001b[0m\u001b[0;34m(\u001b[0m\u001b[0mmap\u001b[0m\u001b[0;34m(\u001b[0m\u001b[0mflst\u001b[0m\u001b[0;34m,\u001b[0m\u001b[0;34m[\u001b[0m\u001b[0;34m-\u001b[0m\u001b[0;36m1\u001b[0m\u001b[0;34m,\u001b[0m\u001b[0;34m-\u001b[0m\u001b[0;36m2\u001b[0m\u001b[0;34m,\u001b[0m\u001b[0;34m-\u001b[0m\u001b[0;36m3\u001b[0m\u001b[0;34m]\u001b[0m\u001b[0;34m)\u001b[0m\u001b[0;34m)\u001b[0m \u001b[0;31m# 결과가 0,0,0\u001b[0m\u001b[0;34m\u001b[0m\u001b[0;34m\u001b[0m\u001b[0m\n\u001b[0m",
      "\u001b[0;31mTypeError\u001b[0m: 'list' object is not callable"
     ]
    }
   ],
   "source": [
    "list(map(flst,[-1,-2,-3])) # 결과가 0,0,0"
   ]
  },
  {
   "cell_type": "markdown",
   "id": "3bfdedef-73ec-49d8-89a8-b01df300d9ed",
   "metadata": {},
   "source": [
    "리스트컴프리헨션으로 구현시도 $\\to$ 성공 "
   ]
  },
  {
   "cell_type": "code",
   "execution_count": 272,
   "id": "8522634a-9db2-410e-b389-73eda3e74cd7",
   "metadata": {
    "vscode": {
     "languageId": "python"
    }
   },
   "outputs": [
    {
     "data": {
      "text/plain": [
       "[0, 0, 0]"
      ]
     },
     "execution_count": 272,
     "metadata": {},
     "output_type": "execute_result"
    }
   ],
   "source": [
    "[f(x) for f,x in zip(flst,[-1,-2,-3])]"
   ]
  },
  {
   "cell_type": "markdown",
   "id": "a6418f11-1353-4ab3-a915-f28e6f6ba4e8",
   "metadata": {},
   "source": [
    "`-` 종합: map과 리스트컴프리헨션과 비교\n",
    "\n",
    "- map은 for문을 위한 $i$등의 인덱스를 쓰지 않지만 리스트컴프리헨션은 필요함 \n",
    "- map은 좀더 리스트컴프리헨션보다 제약적으로 사용할 수 밖에 없음. "
   ]
  },
  {
   "cell_type": "markdown",
   "id": "804ede8b-23f8-4aa9-a1be-a86719e035eb",
   "metadata": {},
   "source": [
    "# Quiz"
   ]
  },
  {
   "cell_type": "markdown",
   "id": "3f552300-7022-4847-9b95-183a2ad1c0c0",
   "metadata": {},
   "source": [
    "## `1`."
   ]
  },
  {
   "cell_type": "markdown",
   "id": "c9f97b15-53d1-49b0-9063-5e3aecef002c",
   "metadata": {},
   "source": [
    "아래와 같은 수열이 있다고 하자. "
   ]
  },
  {
   "cell_type": "code",
   "execution_count": 268,
   "id": "ba1c46b6-4e4a-428f-9914-7a4f385f874b",
   "metadata": {
    "vscode": {
     "languageId": "python"
    }
   },
   "outputs": [
    {
     "data": {
      "text/plain": [
       "array([1, 1, 4, 0, 2, 3, 2, 1, 4, 4, 0, 0, 3, 0, 1, 3, 1, 0, 0, 1, 2, 1,\n",
       "       1, 0, 0, 1, 2, 1, 2, 0, 0, 1, 3, 4, 0, 0, 3, 0, 0, 0, 3, 4, 3, 4,\n",
       "       0, 3, 0, 0, 4, 0, 4, 0, 3, 3, 4, 0, 4, 2, 0, 1, 1, 1, 3, 0, 1, 1,\n",
       "       4, 1, 1, 4, 1, 0, 4, 2, 1, 2, 0, 0, 1, 3, 3, 2, 0, 3, 3, 3, 0, 4,\n",
       "       2, 1, 3, 0, 2, 3, 0, 3, 4, 2, 1, 3])"
      ]
     },
     "execution_count": 268,
     "metadata": {},
     "output_type": "execute_result"
    }
   ],
   "source": [
    "x=np.random.randint(low=0,high=5,size=100)\n",
    "x"
   ]
  },
  {
   "cell_type": "markdown",
   "id": "a0a952db-74d6-4a86-ae77-5bfd80f212e3",
   "metadata": {},
   "source": [
    "${\\tt x}$의 각 원소에 아래와 같은 변환을 수행하라. \n",
    "\n",
    "- 0 $\\to$ '사과'\n",
    "- 1 $\\to$ '배'\n",
    "- 2 $\\to$ '오렌지'\n",
    "- 3 $\\to$ '자동차'\n",
    "- 4 $\\to$ '오토바이'"
   ]
  },
  {
   "cell_type": "code",
   "execution_count": 279,
   "id": "ee69a37a-9351-497a-aa1b-9d1757999a3a",
   "metadata": {
    "vscode": {
     "languageId": "python"
    }
   },
   "outputs": [
    {
     "data": {
      "text/plain": [
       "['배', '배', '오토바이', '사과', '오렌지', '자동차', '오렌지', '배', '오토바이', '오토바이']"
      ]
     },
     "execution_count": 279,
     "metadata": {},
     "output_type": "execute_result"
    }
   ],
   "source": [
    "_dct = {0:'사과',1:'배',2:'오렌지',3:'자동차',4:'오토바이'}\n",
    "lst = list(map(lambda x: _dct[x],x))\n",
    "lst[:10] # 첫 10개만 출력"
   ]
  },
  {
   "cell_type": "markdown",
   "id": "e8186a5f-f4eb-4830-8cb0-c7e35496472f",
   "metadata": {
    "tags": []
   },
   "source": [
    "## `2`. "
   ]
  },
  {
   "cell_type": "markdown",
   "id": "704b0a64-7592-4abc-adb2-59e68e5b8cc6",
   "metadata": {},
   "source": [
    "1의 결과에서 아래와 같은 변환을 수행하라. "
   ]
  },
  {
   "cell_type": "markdown",
   "id": "005ec8b5-514f-482d-b6be-237f960dd992",
   "metadata": {},
   "source": [
    "- '사과' $\\to$ '과일'\n",
    "- '배' $\\to$ '과일'\n",
    "- '오렌지' $\\to$ '과일'\n",
    "- '자동차' $\\to$ '탈것'\n",
    "- '오토바이' $\\to$ '탈것'"
   ]
  },
  {
   "cell_type": "code",
   "execution_count": 284,
   "id": "1f3333ac-1ea9-4552-8d6a-f82ae7ba8a3a",
   "metadata": {
    "vscode": {
     "languageId": "python"
    }
   },
   "outputs": [
    {
     "data": {
      "text/plain": [
       "['과일', '과일', '탈것', '과일', '과일', '탈것', '과일', '과일', '탈것', '탈것']"
      ]
     },
     "execution_count": 284,
     "metadata": {},
     "output_type": "execute_result"
    }
   ],
   "source": [
    "_dct = {'과일':['사과','배','오렌지'],'탈것':['자동차','오토바이']}\n",
    "rslt = [key for l in lst for key in _dct if l in _dct[key]]\n",
    "rslt[:10] # 첫 10개만 출력"
   ]
  }
 ],
 "metadata": {
  "kernelspec": {
   "display_name": "Python 3",
   "language": "python",
   "name": "python3"
  }
 },
 "nbformat": 4,
 "nbformat_minor": 5
}
