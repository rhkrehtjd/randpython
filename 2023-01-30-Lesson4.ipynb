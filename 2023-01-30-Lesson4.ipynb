{
 "cells": [
  {
   "cell_type": "raw",
   "id": "b8f630de-ce8b-4217-b152-c7afe0de27ef",
   "metadata": {
    "tags": []
   },
   "source": [
    "---\n",
    "title: \"Lesson 04: 파이썬의 자료형 III (dict, set)\"\n",
    "author: \"최규빈\"\n",
    "date: \"01/30/2023\"\n",
    "---"
   ]
  },
  {
   "cell_type": "markdown",
   "id": "a510f1ea-e8f6-47b5-b5b5-3a8c4025e5a4",
   "metadata": {},
   "source": [
    "<a href=\"https://colab.research.google.com/github/guebin/IP2023WIN/blob/main/posts/Day1/01_PythonBasicSyntax/2023-01-30-Lesson4.ipynb\"><img src=\"https://colab.research.google.com/assets/colab-badge.svg\" style=\"text-align: left\"></a>"
   ]
  },
  {
   "cell_type": "markdown",
   "id": "c55b672a",
   "metadata": {},
   "source": [
    "# ref"
   ]
  },
  {
   "cell_type": "markdown",
   "id": "3847d5a4",
   "metadata": {},
   "source": [
    "<https://guebin.github.io/IP2022/2022/03/23/(4주차)-3월23일.html>"
   ]
  },
  {
   "cell_type": "markdown",
   "id": "9e8623d0-64f3-4dc1-abfe-fb6c4686861f",
   "metadata": {},
   "source": [
    "# dict "
   ]
  },
  {
   "cell_type": "markdown",
   "id": "f6150090-8fa2-4ef4-bde1-407d2554e508",
   "metadata": {},
   "source": [
    "## 연산 "
   ]
  },
  {
   "cell_type": "markdown",
   "id": "6e61a130-6f5e-4df0-9735-ffc752ecc7f2",
   "metadata": {},
   "source": [
    "`-` 하나있어요.. "
   ]
  },
  {
   "cell_type": "code",
   "execution_count": 1,
   "id": "623ac389-3234-4869-8aa4-b9d3ce7c42e9",
   "metadata": {
    "vscode": {
     "languageId": "python"
    }
   },
   "outputs": [
    {
     "data": {
      "text/plain": [
       "{'guebin': 49, 'iu': 80}"
      ]
     },
     "execution_count": 1,
     "metadata": {},
     "output_type": "execute_result"
    }
   ],
   "source": [
    "score = {'guebin':49, 'iu':80} \n",
    "score "
   ]
  },
  {
   "cell_type": "code",
   "execution_count": 3,
   "id": "20057c6a-5768-404f-8349-c313a650a11a",
   "metadata": {
    "vscode": {
     "languageId": "python"
    }
   },
   "outputs": [
    {
     "data": {
      "text/plain": [
       "True"
      ]
     },
     "execution_count": 3,
     "metadata": {},
     "output_type": "execute_result"
    }
   ],
   "source": [
    "'guebin' in score"
   ]
  },
  {
   "cell_type": "code",
   "execution_count": 4,
   "id": "ea59a4a1-1eca-4b5d-8e65-77ce82654c76",
   "metadata": {
    "vscode": {
     "languageId": "python"
    }
   },
   "outputs": [
    {
     "data": {
      "text/plain": [
       "True"
      ]
     },
     "execution_count": 4,
     "metadata": {},
     "output_type": "execute_result"
    }
   ],
   "source": [
    "'iu' in score"
   ]
  },
  {
   "cell_type": "code",
   "execution_count": 5,
   "id": "4adff280-828c-45fe-af20-434693332b0e",
   "metadata": {
    "vscode": {
     "languageId": "python"
    }
   },
   "outputs": [
    {
     "data": {
      "text/plain": [
       "False"
      ]
     },
     "execution_count": 5,
     "metadata": {},
     "output_type": "execute_result"
    }
   ],
   "source": [
    "'hynn' in score"
   ]
  },
  {
   "cell_type": "markdown",
   "id": "2ff5e6a4-f104-4a34-86ed-b6d048f92c61",
   "metadata": {},
   "source": [
    "`-` in은 사실 다른자료형도 가능했음 "
   ]
  },
  {
   "cell_type": "markdown",
   "id": "fee000d4-b028-43fe-b232-afb400258197",
   "metadata": {},
   "source": [
    "(관찰1)"
   ]
  },
  {
   "cell_type": "code",
   "execution_count": 6,
   "id": "b0607ace-5229-4256-9ecf-28186435aa54",
   "metadata": {
    "vscode": {
     "languageId": "python"
    }
   },
   "outputs": [
    {
     "data": {
      "text/plain": [
       "False"
      ]
     },
     "execution_count": 6,
     "metadata": {},
     "output_type": "execute_result"
    }
   ],
   "source": [
    "'a' in 'guebin' "
   ]
  },
  {
   "cell_type": "code",
   "execution_count": 7,
   "id": "eecb9e31-ee1f-4ef1-a5e5-e6752fcdfe54",
   "metadata": {
    "vscode": {
     "languageId": "python"
    }
   },
   "outputs": [
    {
     "data": {
      "text/plain": [
       "True"
      ]
     },
     "execution_count": 7,
     "metadata": {},
     "output_type": "execute_result"
    }
   ],
   "source": [
    "'b' in 'guebin' "
   ]
  },
  {
   "cell_type": "code",
   "execution_count": 8,
   "id": "8d8033d2-dded-4d07-86ad-2ef7775491ab",
   "metadata": {
    "vscode": {
     "languageId": "python"
    }
   },
   "outputs": [
    {
     "data": {
      "text/plain": [
       "False"
      ]
     },
     "execution_count": 8,
     "metadata": {},
     "output_type": "execute_result"
    }
   ],
   "source": [
    "'c' in 'guebin' "
   ]
  },
  {
   "cell_type": "markdown",
   "id": "0230e52d-f04c-43c1-8d62-5f4919c6e7d7",
   "metadata": {},
   "source": [
    "(관찰2)"
   ]
  },
  {
   "cell_type": "code",
   "execution_count": 9,
   "id": "67383200-08bd-41e6-9f2f-3c7db9c42fff",
   "metadata": {
    "vscode": {
     "languageId": "python"
    }
   },
   "outputs": [
    {
     "data": {
      "text/plain": [
       "(1, 2, 3)"
      ]
     },
     "execution_count": 9,
     "metadata": {},
     "output_type": "execute_result"
    }
   ],
   "source": [
    "tpl = 1,2,3 \n",
    "tpl"
   ]
  },
  {
   "cell_type": "code",
   "execution_count": 10,
   "id": "f96b0101-4c88-4d9c-aafc-e0efdfdbd838",
   "metadata": {
    "vscode": {
     "languageId": "python"
    }
   },
   "outputs": [
    {
     "data": {
      "text/plain": [
       "True"
      ]
     },
     "execution_count": 10,
     "metadata": {},
     "output_type": "execute_result"
    }
   ],
   "source": [
    "1 in tpl"
   ]
  },
  {
   "cell_type": "code",
   "execution_count": 11,
   "id": "10c7c978-5663-46c9-a85b-a0bef6b90dda",
   "metadata": {
    "vscode": {
     "languageId": "python"
    }
   },
   "outputs": [
    {
     "data": {
      "text/plain": [
       "False"
      ]
     },
     "execution_count": 11,
     "metadata": {},
     "output_type": "execute_result"
    }
   ],
   "source": [
    "4 in tpl"
   ]
  },
  {
   "cell_type": "markdown",
   "id": "5eab39ac-71f2-4e7e-b761-5373deaa9363",
   "metadata": {},
   "source": [
    "(관찰3)"
   ]
  },
  {
   "cell_type": "code",
   "execution_count": 12,
   "id": "5eb7a163-3e1e-4e1d-a2a7-0192fa45a817",
   "metadata": {
    "vscode": {
     "languageId": "python"
    }
   },
   "outputs": [
    {
     "data": {
      "text/plain": [
       "[['guebin', 49], ['iu', 80], ['hynn', 99]]"
      ]
     },
     "execution_count": 12,
     "metadata": {},
     "output_type": "execute_result"
    }
   ],
   "source": [
    "score = [['guebin',49],['iu',80],['hynn',99]] \n",
    "score"
   ]
  },
  {
   "cell_type": "code",
   "execution_count": 13,
   "id": "73c0a06b-a068-4398-9133-ff59c9a83f0a",
   "metadata": {
    "vscode": {
     "languageId": "python"
    }
   },
   "outputs": [
    {
     "data": {
      "text/plain": [
       "True"
      ]
     },
     "execution_count": 13,
     "metadata": {},
     "output_type": "execute_result"
    }
   ],
   "source": [
    "['guebin',49] in score "
   ]
  },
  {
   "cell_type": "markdown",
   "id": "7d7a1b07-c7e1-47b4-893a-19d60eb128b0",
   "metadata": {},
   "source": [
    "`-` in연산자가 dict형에 사용되면 key를 기준으로 True, False를 판단한다. "
   ]
  },
  {
   "cell_type": "markdown",
   "id": "edf3c841-e0d3-4127-b0b4-09f84c6e7495",
   "metadata": {},
   "source": [
    "## 메소드 "
   ]
  },
  {
   "cell_type": "markdown",
   "id": "7b3c9165-8f21-44b5-80bb-7ec67317e495",
   "metadata": {},
   "source": [
    "**(get)**"
   ]
  },
  {
   "cell_type": "code",
   "execution_count": 14,
   "id": "7ba0cf54-45fa-4265-9718-e4152c0988b3",
   "metadata": {
    "vscode": {
     "languageId": "python"
    }
   },
   "outputs": [
    {
     "data": {
      "text/plain": [
       "{'guebin': 49, 'iu': 80}"
      ]
     },
     "execution_count": 14,
     "metadata": {},
     "output_type": "execute_result"
    }
   ],
   "source": [
    "score = {'guebin':49, 'iu':80} \n",
    "score "
   ]
  },
  {
   "cell_type": "code",
   "execution_count": 15,
   "id": "f13f3ce4-06d7-4b82-ad60-f3b1dba06360",
   "metadata": {
    "vscode": {
     "languageId": "python"
    }
   },
   "outputs": [
    {
     "data": {
      "text/plain": [
       "49"
      ]
     },
     "execution_count": 15,
     "metadata": {},
     "output_type": "execute_result"
    }
   ],
   "source": [
    "score.get('guebin') "
   ]
  },
  {
   "cell_type": "markdown",
   "id": "829325f1-d38a-48af-929f-50b8e444d5d3",
   "metadata": {},
   "source": [
    "아래와 같은 기능 "
   ]
  },
  {
   "cell_type": "code",
   "execution_count": 16,
   "id": "255249b0-c4f1-4204-867f-9574f9e2c93c",
   "metadata": {
    "vscode": {
     "languageId": "python"
    }
   },
   "outputs": [
    {
     "data": {
      "text/plain": [
       "49"
      ]
     },
     "execution_count": 16,
     "metadata": {},
     "output_type": "execute_result"
    }
   ],
   "source": [
    "score['guebin']"
   ]
  },
  {
   "cell_type": "markdown",
   "id": "6b0e4777-63fb-4fc3-90ed-3cec2e290e92",
   "metadata": {},
   "source": [
    "미묘한 차이점이 존재함 "
   ]
  },
  {
   "cell_type": "code",
   "execution_count": 17,
   "id": "6ffa84df-39f7-4a54-90d6-2ee7b8325f49",
   "metadata": {
    "vscode": {
     "languageId": "python"
    }
   },
   "outputs": [
    {
     "ename": "KeyError",
     "evalue": "'hynn'",
     "output_type": "error",
     "traceback": [
      "\u001b[0;31m---------------------------------------------------------------------------\u001b[0m",
      "\u001b[0;31mKeyError\u001b[0m                                  Traceback (most recent call last)",
      "Input \u001b[0;32mIn [17]\u001b[0m, in \u001b[0;36m<cell line: 1>\u001b[0;34m()\u001b[0m\n\u001b[0;32m----> 1\u001b[0m \u001b[43mscore\u001b[49m\u001b[43m[\u001b[49m\u001b[38;5;124;43m'\u001b[39;49m\u001b[38;5;124;43mhynn\u001b[39;49m\u001b[38;5;124;43m'\u001b[39;49m\u001b[43m]\u001b[49m\n",
      "\u001b[0;31mKeyError\u001b[0m: 'hynn'"
     ]
    }
   ],
   "source": [
    "score['hynn'] # hynn이 없어서 키에러 출력, 그런 key는 없다.. "
   ]
  },
  {
   "cell_type": "code",
   "execution_count": 18,
   "id": "88290b44-fca4-4521-8794-ac3da0964143",
   "metadata": {
    "vscode": {
     "languageId": "python"
    }
   },
   "outputs": [],
   "source": [
    "score.get('hynn') # hynn이 없으면 아무것도 출력안함 "
   ]
  },
  {
   "cell_type": "markdown",
   "id": "d9375c76-1442-4956-8527-4d22de794b33",
   "metadata": {},
   "source": [
    "**(keys,values,items)**"
   ]
  },
  {
   "cell_type": "markdown",
   "id": "c632a02f-072d-46ae-96b6-eb49afb58d17",
   "metadata": {},
   "source": [
    "`-` .keys()는 딕셔너리의 키를 리턴한다.  "
   ]
  },
  {
   "cell_type": "code",
   "execution_count": 2,
   "id": "bb252587-9069-4e52-89ad-71b1090371a8",
   "metadata": {
    "vscode": {
     "languageId": "python"
    }
   },
   "outputs": [
    {
     "data": {
      "text/plain": [
       "{'guebin': 49, 'iu': 80}"
      ]
     },
     "execution_count": 2,
     "metadata": {},
     "output_type": "execute_result"
    }
   ],
   "source": [
    "score = {'guebin':49, 'iu':80} \n",
    "score "
   ]
  },
  {
   "cell_type": "code",
   "execution_count": 20,
   "id": "b4497579-078f-4b1d-8bf7-a312ea77a3ba",
   "metadata": {
    "vscode": {
     "languageId": "python"
    }
   },
   "outputs": [
    {
     "data": {
      "text/plain": [
       "dict_keys(['guebin', 'iu'])"
      ]
     },
     "execution_count": 20,
     "metadata": {},
     "output_type": "execute_result"
    }
   ],
   "source": [
    "_keys=score.keys()\n",
    "_keys"
   ]
  },
  {
   "cell_type": "code",
   "execution_count": 21,
   "id": "4ce3c933-8301-49da-add7-352c27f4d025",
   "metadata": {
    "vscode": {
     "languageId": "python"
    }
   },
   "outputs": [
    {
     "data": {
      "text/plain": [
       "dict_keys"
      ]
     },
     "execution_count": 21,
     "metadata": {},
     "output_type": "execute_result"
    }
   ],
   "source": [
    "type(_keys) # 리턴된 자료형은 이상한것임"
   ]
  },
  {
   "cell_type": "code",
   "execution_count": 22,
   "id": "767fe350-fedb-4afd-83d4-6188f82bdccc",
   "metadata": {
    "vscode": {
     "languageId": "python"
    }
   },
   "outputs": [
    {
     "data": {
      "text/plain": [
       "['guebin', 'iu']"
      ]
     },
     "execution_count": 22,
     "metadata": {},
     "output_type": "execute_result"
    }
   ],
   "source": [
    "list(_keys) # 아무튼 그 이상한 자료형도 리스트화 가능 "
   ]
  },
  {
   "cell_type": "markdown",
   "id": "1ec65239-076f-4702-998e-31bbbacd810b",
   "metadata": {},
   "source": [
    "`-` .values()는 딕셔너리의 값들을 리턴한다. "
   ]
  },
  {
   "cell_type": "code",
   "execution_count": 26,
   "id": "fd84b995-46d5-473b-ae3f-5da8fc90dbd0",
   "metadata": {
    "vscode": {
     "languageId": "python"
    }
   },
   "outputs": [
    {
     "data": {
      "text/plain": [
       "dict_values([49, 80])"
      ]
     },
     "execution_count": 26,
     "metadata": {},
     "output_type": "execute_result"
    }
   ],
   "source": [
    "_values =score.values()\n",
    "_values "
   ]
  },
  {
   "cell_type": "code",
   "execution_count": 27,
   "id": "ebd58e50-18bd-41b7-8ec4-bdce66e9ae88",
   "metadata": {
    "vscode": {
     "languageId": "python"
    }
   },
   "outputs": [
    {
     "data": {
      "text/plain": [
       "dict_values"
      ]
     },
     "execution_count": 27,
     "metadata": {},
     "output_type": "execute_result"
    }
   ],
   "source": [
    "type(_values)"
   ]
  },
  {
   "cell_type": "code",
   "execution_count": 28,
   "id": "667cd3db-2dcc-4030-80a1-507f3b996e11",
   "metadata": {
    "vscode": {
     "languageId": "python"
    }
   },
   "outputs": [
    {
     "data": {
      "text/plain": [
       "[49, 80]"
      ]
     },
     "execution_count": 28,
     "metadata": {},
     "output_type": "execute_result"
    }
   ],
   "source": [
    "list(_values)"
   ]
  },
  {
   "cell_type": "markdown",
   "id": "44bf89a8-a331-4ef8-a485-a5cc36056105",
   "metadata": {},
   "source": [
    "`-` .items()는 딕셔너리의 (키,값)을 리턴한다. "
   ]
  },
  {
   "cell_type": "code",
   "execution_count": 29,
   "id": "4662e4da-6f14-4f2b-a609-ec28deea24d3",
   "metadata": {
    "vscode": {
     "languageId": "python"
    }
   },
   "outputs": [
    {
     "data": {
      "text/plain": [
       "dict_items([('guebin', 49), ('iu', 80)])"
      ]
     },
     "execution_count": 29,
     "metadata": {},
     "output_type": "execute_result"
    }
   ],
   "source": [
    "_items = score.items()\n",
    "_items "
   ]
  },
  {
   "cell_type": "code",
   "execution_count": 31,
   "id": "e7c5df33-3b2b-4612-96bd-98c86a2e1aa6",
   "metadata": {
    "vscode": {
     "languageId": "python"
    }
   },
   "outputs": [
    {
     "data": {
      "text/plain": [
       "dict_items"
      ]
     },
     "execution_count": 31,
     "metadata": {},
     "output_type": "execute_result"
    }
   ],
   "source": [
    "type(_items)"
   ]
  },
  {
   "cell_type": "code",
   "execution_count": 32,
   "id": "f3f822db-41a0-4dee-964c-ab489904f0cc",
   "metadata": {
    "vscode": {
     "languageId": "python"
    }
   },
   "outputs": [
    {
     "data": {
      "text/plain": [
       "[('guebin', 49), ('iu', 80)]"
      ]
     },
     "execution_count": 32,
     "metadata": {},
     "output_type": "execute_result"
    }
   ],
   "source": [
    "list(_items)"
   ]
  },
  {
   "cell_type": "markdown",
   "id": "be231128-ef04-4492-b1c3-0b8e38dea379",
   "metadata": {},
   "source": [
    "## for문"
   ]
  },
  {
   "cell_type": "markdown",
   "id": "0dd6840c-60e4-42d6-9dfd-d631253acb2b",
   "metadata": {},
   "source": [
    "(예시1) "
   ]
  },
  {
   "cell_type": "code",
   "execution_count": 34,
   "id": "36ad4afd-da17-4b04-8bfa-1f0880b8524f",
   "metadata": {
    "vscode": {
     "languageId": "python"
    }
   },
   "outputs": [
    {
     "name": "stdout",
     "output_type": "stream",
     "text": [
      "guebin\n",
      "iu\n"
     ]
    }
   ],
   "source": [
    "for i in score.keys():\n",
    "    print(i)"
   ]
  },
  {
   "cell_type": "code",
   "execution_count": 41,
   "id": "e5a9ac5e-3ab2-4842-98da-6699bcb0a97c",
   "metadata": {
    "vscode": {
     "languageId": "python"
    }
   },
   "outputs": [
    {
     "name": "stdout",
     "output_type": "stream",
     "text": [
      "guebin\n",
      "iu\n"
     ]
    }
   ],
   "source": [
    "for i in score:\n",
    "    print(i)"
   ]
  },
  {
   "cell_type": "markdown",
   "id": "b563e865-07e9-4a4e-ad65-066f286952c5",
   "metadata": {},
   "source": [
    "- 딕셔너리 그자체도 for문에 넣을 수 있다. \n",
    "- i에는 value가 삭제되어 들어간다. (즉 key만)\n",
    "- 결과를 보면 score대신에 score.keys()와 list(score)를 넣었을때와 결과가 같다. "
   ]
  },
  {
   "cell_type": "markdown",
   "id": "0104bbda-1bad-4b01-a407-36a4dc505ed6",
   "metadata": {},
   "source": [
    "> Note: list(score) 하면 key만 리턴된다. "
   ]
  },
  {
   "cell_type": "markdown",
   "id": "2594fa67-1857-47a4-8458-c2bd4c78bc95",
   "metadata": {},
   "source": [
    "(예시2)"
   ]
  },
  {
   "cell_type": "code",
   "execution_count": 3,
   "id": "ef249a42-1f88-44d2-8641-42cd8172b4d8",
   "metadata": {
    "vscode": {
     "languageId": "python"
    }
   },
   "outputs": [
    {
     "name": "stdout",
     "output_type": "stream",
     "text": [
      "49\n",
      "80\n"
     ]
    }
   ],
   "source": [
    "for v in score.values():\n",
    "    print(v)"
   ]
  },
  {
   "cell_type": "markdown",
   "id": "69e9e4ff-4c46-4d1f-a3fa-1438609d2c3a",
   "metadata": {},
   "source": [
    "(예시3)"
   ]
  },
  {
   "cell_type": "code",
   "execution_count": 4,
   "id": "c9faa506-667c-4fcf-a46c-00ac58dc80f9",
   "metadata": {
    "vscode": {
     "languageId": "python"
    }
   },
   "outputs": [
    {
     "name": "stdout",
     "output_type": "stream",
     "text": [
      "('guebin', 49)\n",
      "('iu', 80)\n"
     ]
    }
   ],
   "source": [
    "for k in score.items():\n",
    "    print(k)"
   ]
  },
  {
   "cell_type": "markdown",
   "id": "454ae4e5-abe3-4b8f-b17c-4452efec6e80",
   "metadata": {},
   "source": [
    "(예시4)"
   ]
  },
  {
   "cell_type": "code",
   "execution_count": 5,
   "id": "87ad2727-f995-4513-a35f-3b138df8b03e",
   "metadata": {
    "vscode": {
     "languageId": "python"
    }
   },
   "outputs": [
    {
     "name": "stdout",
     "output_type": "stream",
     "text": [
      "guebin 49\n",
      "iu 80\n"
     ]
    }
   ],
   "source": [
    "for k,v in score.items():\n",
    "    print(k,v)"
   ]
  },
  {
   "cell_type": "markdown",
   "id": "c1cd511a-607d-4db8-ae34-5c9ee9f7e794",
   "metadata": {},
   "source": [
    "(예시5)"
   ]
  },
  {
   "cell_type": "code",
   "execution_count": 6,
   "id": "4aa2ebd1-ce92-41bb-adae-9be94ef25d5c",
   "metadata": {
    "vscode": {
     "languageId": "python"
    }
   },
   "outputs": [
    {
     "name": "stdout",
     "output_type": "stream",
     "text": [
      "guebin의 중간고사 점수는 49점 입니다.\n",
      "iu의 중간고사 점수는 80점 입니다.\n"
     ]
    }
   ],
   "source": [
    "for k,v in score.items():\n",
    "    print(k + '의 중간고사 점수는 %s점 입니다.' % v)"
   ]
  },
  {
   "cell_type": "markdown",
   "id": "e5037cdc-0269-4b05-98cf-047984a44e9e",
   "metadata": {},
   "source": [
    "**[보충학습] 문자열 새치기**"
   ]
  },
  {
   "cell_type": "code",
   "execution_count": 7,
   "id": "4988ba4f-2556-48d7-b454-ab23c845ba66",
   "metadata": {
    "vscode": {
     "languageId": "python"
    }
   },
   "outputs": [
    {
     "data": {
      "text/plain": [
       "'제 이름은 최규빈입니다'"
      ]
     },
     "execution_count": 7,
     "metadata": {},
     "output_type": "execute_result"
    }
   ],
   "source": [
    "'제 이름은 %s입니다' % '최규빈'"
   ]
  },
  {
   "cell_type": "markdown",
   "id": "58ed0206-76c5-4b15-9caa-f526fa7074e7",
   "metadata": {},
   "source": [
    "- %는 새치기연산자임. %s는 새치기하는 자리라고 생각 "
   ]
  },
  {
   "cell_type": "markdown",
   "id": "2fde3560-81ad-4026-adac-d654a2ace974",
   "metadata": {},
   "source": [
    "보충학습끝"
   ]
  },
  {
   "cell_type": "markdown",
   "id": "14385337-eccc-4768-b2ae-f8815bb86b03",
   "metadata": {},
   "source": [
    "## 딕셔너리 고급 "
   ]
  },
  {
   "cell_type": "markdown",
   "id": "f3d06ae4-9130-4b43-ab62-f7a6247e53e0",
   "metadata": {},
   "source": [
    "### 키는 문자열만 가능한 것이 아니다. "
   ]
  },
  {
   "cell_type": "markdown",
   "id": "0bc935d1-66d6-48be-b862-9c14e0cf6f5d",
   "metadata": {},
   "source": [
    "`-` 정수키 "
   ]
  },
  {
   "cell_type": "code",
   "execution_count": 77,
   "id": "91476f18-4f0a-4b27-8c7a-da1bdaebf886",
   "metadata": {
    "vscode": {
     "languageId": "python"
    }
   },
   "outputs": [
    {
     "data": {
      "text/plain": [
       "{0: 49, 1: 80, 2: 99}"
      ]
     },
     "execution_count": 77,
     "metadata": {},
     "output_type": "execute_result"
    }
   ],
   "source": [
    "score = {0:49, 1:80, 2:99} # key를 0,1,2로 \n",
    "score"
   ]
  },
  {
   "cell_type": "markdown",
   "id": "e77f2cc4-4e9e-46ac-83eb-f59fdbc07f96",
   "metadata": {},
   "source": [
    "`-` 인덱싱은? "
   ]
  },
  {
   "cell_type": "code",
   "execution_count": 78,
   "id": "fad2ba72-6274-4c90-b05b-b9d145eae898",
   "metadata": {
    "vscode": {
     "languageId": "python"
    }
   },
   "outputs": [
    {
     "data": {
      "text/plain": [
       "49"
      ]
     },
     "execution_count": 78,
     "metadata": {},
     "output_type": "execute_result"
    }
   ],
   "source": [
    "score[0] # 키로 인덱싱을 하고 있는데 마치 원소의 위치로 인덱싱을 하는 기분 "
   ]
  },
  {
   "cell_type": "markdown",
   "id": "e4ae5738-8c3b-4fb7-b98b-3eb279979a44",
   "metadata": {},
   "source": [
    "`-` 그럼 혹시 이것도?"
   ]
  },
  {
   "cell_type": "code",
   "execution_count": 79,
   "id": "94295078-c310-479e-9559-68288e63c769",
   "metadata": {
    "vscode": {
     "languageId": "python"
    }
   },
   "outputs": [
    {
     "ename": "TypeError",
     "evalue": "unhashable type: 'slice'",
     "output_type": "error",
     "traceback": [
      "\u001b[0;31m---------------------------------------------------------------------------\u001b[0m",
      "\u001b[0;31mTypeError\u001b[0m                                 Traceback (most recent call last)",
      "Input \u001b[0;32mIn [79]\u001b[0m, in \u001b[0;36m<cell line: 1>\u001b[0;34m()\u001b[0m\n\u001b[0;32m----> 1\u001b[0m \u001b[43mscore\u001b[49m\u001b[43m[\u001b[49m\u001b[43m:\u001b[49m\u001b[38;5;241;43m2\u001b[39;49m\u001b[43m]\u001b[49m\n",
      "\u001b[0;31mTypeError\u001b[0m: unhashable type: 'slice'"
     ]
    }
   ],
   "source": [
    "score[:2]"
   ]
  },
  {
   "cell_type": "code",
   "execution_count": 81,
   "id": "485d3a36-aba9-4b76-95f0-3c190ae48b27",
   "metadata": {
    "vscode": {
     "languageId": "python"
    }
   },
   "outputs": [
    {
     "ename": "KeyError",
     "evalue": "-1",
     "output_type": "error",
     "traceback": [
      "\u001b[0;31m---------------------------------------------------------------------------\u001b[0m",
      "\u001b[0;31mKeyError\u001b[0m                                  Traceback (most recent call last)",
      "Input \u001b[0;32mIn [81]\u001b[0m, in \u001b[0;36m<cell line: 1>\u001b[0;34m()\u001b[0m\n\u001b[0;32m----> 1\u001b[0m \u001b[43mscore\u001b[49m\u001b[43m[\u001b[49m\u001b[38;5;241;43m-\u001b[39;49m\u001b[38;5;241;43m1\u001b[39;49m\u001b[43m]\u001b[49m\n",
      "\u001b[0;31mKeyError\u001b[0m: -1"
     ]
    }
   ],
   "source": [
    "score[-1] # 이것도 될리가 없죠.. "
   ]
  },
  {
   "cell_type": "markdown",
   "id": "d0f3a054-1f2c-4f45-b9ab-8e66d48e98f6",
   "metadata": {},
   "source": [
    "### 키로가능한것? 문자열, 숫자값, 튜플 "
   ]
  },
  {
   "cell_type": "code",
   "execution_count": 99,
   "id": "924cf7c6-79ac-45a5-9c01-261a1fc82a40",
   "metadata": {
    "vscode": {
     "languageId": "python"
    }
   },
   "outputs": [
    {
     "data": {
      "text/plain": [
       "{('guebin', 0): 10, ('guebin', 1): 20, ('guebin', 2): 49}"
      ]
     },
     "execution_count": 99,
     "metadata": {},
     "output_type": "execute_result"
    }
   ],
   "source": [
    "score = {('guebin',0): 10, ('guebin',1): 20, ('guebin',2):49}  # 0은 출석점수, 1은 레포트 점수, 2는 중간고사 점수 \n",
    "score"
   ]
  },
  {
   "cell_type": "code",
   "execution_count": 100,
   "id": "70dfbc2f-d306-422b-957e-ca62b5f8d825",
   "metadata": {
    "vscode": {
     "languageId": "python"
    }
   },
   "outputs": [
    {
     "data": {
      "text/plain": [
       "10"
      ]
     },
     "execution_count": 100,
     "metadata": {},
     "output_type": "execute_result"
    }
   ],
   "source": [
    "score[('guebin',0)]"
   ]
  },
  {
   "cell_type": "code",
   "execution_count": 101,
   "id": "daf2f68d-0a92-4708-93de-ba893293d782",
   "metadata": {
    "vscode": {
     "languageId": "python"
    }
   },
   "outputs": [
    {
     "data": {
      "text/plain": [
       "49"
      ]
     },
     "execution_count": 101,
     "metadata": {},
     "output_type": "execute_result"
    }
   ],
   "source": [
    "score['guebin',2]"
   ]
  },
  {
   "cell_type": "code",
   "execution_count": 104,
   "id": "4cdce811-0a91-42c5-9f92-798818b192c2",
   "metadata": {
    "vscode": {
     "languageId": "python"
    }
   },
   "outputs": [],
   "source": [
    "score[('guebin',3)] = 99 # 규빈의 기말고사 점수를 추가 "
   ]
  },
  {
   "cell_type": "code",
   "execution_count": 103,
   "id": "21da1fbd-99fd-4b88-8f27-8aba74c59f50",
   "metadata": {
    "vscode": {
     "languageId": "python"
    }
   },
   "outputs": [
    {
     "data": {
      "text/plain": [
       "{('guebin', 0): 10, ('guebin', 1): 20, ('guebin', 2): 49, ('guebin', 3): 99}"
      ]
     },
     "execution_count": 103,
     "metadata": {},
     "output_type": "execute_result"
    }
   ],
   "source": [
    "score"
   ]
  },
  {
   "cell_type": "markdown",
   "id": "a0c5b4f5-77b5-4c6f-9595-4c3ec0bc14f8",
   "metadata": {},
   "source": [
    "- 문자열, 숫자값, 튜플의 공통점? 불변객체"
   ]
  },
  {
   "cell_type": "markdown",
   "id": "24ec663f-3182-422c-9967-a4501b16f305",
   "metadata": {},
   "source": [
    "### 참고 (불변형과 가변형)"
   ]
  },
  {
   "cell_type": "markdown",
   "id": "82c46137-6def-4027-8f76-88904b448011",
   "metadata": {},
   "source": [
    "(인트형은 불변) "
   ]
  },
  {
   "cell_type": "code",
   "execution_count": 120,
   "id": "6465fa78-61d2-497d-abf1-d98f4d15e4d9",
   "metadata": {
    "vscode": {
     "languageId": "python"
    }
   },
   "outputs": [
    {
     "data": {
      "text/plain": [
       "(1, 140554269835504)"
      ]
     },
     "execution_count": 120,
     "metadata": {},
     "output_type": "execute_result"
    }
   ],
   "source": [
    "a=1\n",
    "a,id(a)"
   ]
  },
  {
   "cell_type": "code",
   "execution_count": 121,
   "id": "f6824f4e-17da-47f9-b4f3-b79e5cfb09d2",
   "metadata": {
    "vscode": {
     "languageId": "python"
    }
   },
   "outputs": [
    {
     "data": {
      "text/plain": [
       "(2, 140554269835536)"
      ]
     },
     "execution_count": 121,
     "metadata": {},
     "output_type": "execute_result"
    }
   ],
   "source": [
    "a=2\n",
    "a,id(a)"
   ]
  },
  {
   "cell_type": "markdown",
   "id": "8003f053-4e15-4ef2-baf0-3cd9ca118ac4",
   "metadata": {},
   "source": [
    "(문자열도 불변)"
   ]
  },
  {
   "cell_type": "code",
   "execution_count": 123,
   "id": "87ad2c29-7138-4679-a18a-ac7011615b2b",
   "metadata": {
    "vscode": {
     "languageId": "python"
    }
   },
   "outputs": [
    {
     "data": {
      "text/plain": [
       "('guebin', 140553659148336)"
      ]
     },
     "execution_count": 123,
     "metadata": {},
     "output_type": "execute_result"
    }
   ],
   "source": [
    "a='guebin'\n",
    "a,id(a)"
   ]
  },
  {
   "cell_type": "code",
   "execution_count": 124,
   "id": "f92a4776-cc1c-43ec-b4df-47846eee0b27",
   "metadata": {
    "vscode": {
     "languageId": "python"
    }
   },
   "outputs": [
    {
     "data": {
      "text/plain": [
       "('Guebin', 140553649883440)"
      ]
     },
     "execution_count": 124,
     "metadata": {},
     "output_type": "execute_result"
    }
   ],
   "source": [
    "a='Guebin'\n",
    "a,id(a)"
   ]
  },
  {
   "cell_type": "markdown",
   "id": "282a9b7e-ddb1-4955-9a9b-8b08355751b1",
   "metadata": {},
   "source": [
    "(리스트는 가변)"
   ]
  },
  {
   "cell_type": "code",
   "execution_count": 127,
   "id": "a894af1a-4af4-4b63-a081-64b253af7209",
   "metadata": {
    "vscode": {
     "languageId": "python"
    }
   },
   "outputs": [
    {
     "data": {
      "text/plain": [
       "(['g', 'u', 'e', 'b', 'i', 'n'], 140553645841408)"
      ]
     },
     "execution_count": 127,
     "metadata": {},
     "output_type": "execute_result"
    }
   ],
   "source": [
    "a=list('guebin')\n",
    "a,id(a)"
   ]
  },
  {
   "cell_type": "code",
   "execution_count": 128,
   "id": "4f35d9ea-2592-46a9-9ad7-00269e9b6e76",
   "metadata": {
    "vscode": {
     "languageId": "python"
    }
   },
   "outputs": [],
   "source": [
    "a[0]='G'"
   ]
  },
  {
   "cell_type": "code",
   "execution_count": 129,
   "id": "24f1e551-de48-4f2b-b301-f2a804e51f6f",
   "metadata": {
    "vscode": {
     "languageId": "python"
    }
   },
   "outputs": [
    {
     "data": {
      "text/plain": [
       "(['G', 'u', 'e', 'b', 'i', 'n'], 140553645841408)"
      ]
     },
     "execution_count": 129,
     "metadata": {},
     "output_type": "execute_result"
    }
   ],
   "source": [
    "a,id(a)"
   ]
  },
  {
   "cell_type": "markdown",
   "id": "1a7a2cb3-2874-4385-97c4-0277fd33364c",
   "metadata": {},
   "source": [
    "# set"
   ]
  },
  {
   "cell_type": "markdown",
   "id": "bb2accfb-2886-4d3a-860d-8ec67b40a43d",
   "metadata": {},
   "source": [
    "## 선언 "
   ]
  },
  {
   "cell_type": "code",
   "execution_count": 130,
   "id": "537086a4-e9da-4c3e-9a87-9b75556425dd",
   "metadata": {
    "vscode": {
     "languageId": "python"
    }
   },
   "outputs": [],
   "source": [
    "a={'notebook','desktop'}"
   ]
  },
  {
   "cell_type": "markdown",
   "id": "d0aeeb70-47f9-47ad-9afd-41a35a38bac1",
   "metadata": {},
   "source": [
    "## 원소추출 "
   ]
  },
  {
   "cell_type": "markdown",
   "id": "e9c55bf6-305b-4f00-add1-d72eecd63ae6",
   "metadata": {},
   "source": [
    "`-` 일단 인덱스로는 못합니다. "
   ]
  },
  {
   "cell_type": "code",
   "execution_count": 132,
   "id": "63deb0b1-b78f-4413-861c-8bb4c56666b0",
   "metadata": {
    "vscode": {
     "languageId": "python"
    }
   },
   "outputs": [
    {
     "ename": "TypeError",
     "evalue": "'set' object is not subscriptable",
     "output_type": "error",
     "traceback": [
      "\u001b[0;31m---------------------------------------------------------------------------\u001b[0m",
      "\u001b[0;31mTypeError\u001b[0m                                 Traceback (most recent call last)",
      "Input \u001b[0;32mIn [132]\u001b[0m, in \u001b[0;36m<cell line: 2>\u001b[0;34m()\u001b[0m\n\u001b[1;32m      1\u001b[0m a\u001b[38;5;241m=\u001b[39m{\u001b[38;5;124m'\u001b[39m\u001b[38;5;124mnotebook\u001b[39m\u001b[38;5;124m'\u001b[39m,\u001b[38;5;124m'\u001b[39m\u001b[38;5;124mdesktop\u001b[39m\u001b[38;5;124m'\u001b[39m}\n\u001b[0;32m----> 2\u001b[0m \u001b[43ma\u001b[49m\u001b[43m[\u001b[49m\u001b[38;5;241;43m0\u001b[39;49m\u001b[43m]\u001b[49m\n",
      "\u001b[0;31mTypeError\u001b[0m: 'set' object is not subscriptable"
     ]
    }
   ],
   "source": [
    "a={'notebook','desktop'}\n",
    "a[0]"
   ]
  },
  {
   "cell_type": "markdown",
   "id": "10cc8d3e-01fc-472d-aa9d-238ed1810ca8",
   "metadata": {},
   "source": [
    "`-` 딱히 하는 방법이 없어요.. 그리고 이걸 하는 의미가 없어요.. (원소에 접근해서 뭐하려고??)"
   ]
  },
  {
   "cell_type": "markdown",
   "id": "77072b14-49ad-4d9a-9645-187ca99e762e",
   "metadata": {},
   "source": [
    "## 원소추가 "
   ]
  },
  {
   "cell_type": "markdown",
   "id": "5b535b7f-727c-4e92-ab97-ff78b81a3453",
   "metadata": {},
   "source": [
    "`-` 이건 의미가 있죠 "
   ]
  },
  {
   "cell_type": "code",
   "execution_count": 143,
   "id": "6faaf826-0ed0-40fa-8ab5-d83b4df6f52f",
   "metadata": {
    "vscode": {
     "languageId": "python"
    }
   },
   "outputs": [
    {
     "data": {
      "text/plain": [
       "{'desktop', 'notebook'}"
      ]
     },
     "execution_count": 143,
     "metadata": {},
     "output_type": "execute_result"
    }
   ],
   "source": [
    "a={'notebook','desktop'} \n",
    "a"
   ]
  },
  {
   "cell_type": "code",
   "execution_count": 144,
   "id": "a0a3f5b0-b407-4a33-820c-614a8c31a742",
   "metadata": {
    "vscode": {
     "languageId": "python"
    }
   },
   "outputs": [
    {
     "data": {
      "text/plain": [
       "{'desktop', 'ipad', 'notebook'}"
      ]
     },
     "execution_count": 144,
     "metadata": {},
     "output_type": "execute_result"
    }
   ],
   "source": [
    "a.add('ipad')\n",
    "a"
   ]
  },
  {
   "cell_type": "code",
   "execution_count": 145,
   "id": "fdb09c04-b081-4fa0-a20f-b883419f0f46",
   "metadata": {
    "vscode": {
     "languageId": "python"
    }
   },
   "outputs": [
    {
     "data": {
      "text/plain": [
       "{'desktop', 'ipad', 'notebook'}"
      ]
     },
     "execution_count": 145,
     "metadata": {},
     "output_type": "execute_result"
    }
   ],
   "source": [
    "a.add('notebook') # 이미 원소로 있는건 추가되지 않음. \n",
    "a"
   ]
  },
  {
   "cell_type": "markdown",
   "id": "bd40495a-2977-4580-a4f6-9fa887076b8d",
   "metadata": {},
   "source": [
    "## 원소삭제 "
   ]
  },
  {
   "cell_type": "code",
   "execution_count": 147,
   "id": "6a5d2ec6-0c81-46a2-931d-6446b928f3a2",
   "metadata": {
    "vscode": {
     "languageId": "python"
    }
   },
   "outputs": [
    {
     "data": {
      "text/plain": [
       "{'desktop', 'ipad', 'notebook'}"
      ]
     },
     "execution_count": 147,
     "metadata": {},
     "output_type": "execute_result"
    }
   ],
   "source": [
    "a={'desktop', 'ipad', 'notebook'}\n",
    "a"
   ]
  },
  {
   "cell_type": "code",
   "execution_count": 148,
   "id": "780da86a-f773-4ae7-a3ca-aad29a873809",
   "metadata": {
    "vscode": {
     "languageId": "python"
    }
   },
   "outputs": [],
   "source": [
    "a.remove('notebook')"
   ]
  },
  {
   "cell_type": "code",
   "execution_count": 149,
   "id": "8e306c53-2ca8-4f2a-b490-fab23a3fafd2",
   "metadata": {
    "vscode": {
     "languageId": "python"
    }
   },
   "outputs": [
    {
     "data": {
      "text/plain": [
       "{'desktop', 'ipad'}"
      ]
     },
     "execution_count": 149,
     "metadata": {},
     "output_type": "execute_result"
    }
   ],
   "source": [
    "a"
   ]
  },
  {
   "cell_type": "markdown",
   "id": "6ab1ddeb-301f-47e7-9e8b-6929d7d1b772",
   "metadata": {},
   "source": [
    "## 연산 "
   ]
  },
  {
   "cell_type": "markdown",
   "id": "3c4b4284-5062-4c29-9d5f-46577e83c7a5",
   "metadata": {},
   "source": [
    "`-` in 연산자  "
   ]
  },
  {
   "cell_type": "code",
   "execution_count": 153,
   "id": "3c94a34d-457a-4aaa-9815-72761a340c5a",
   "metadata": {
    "vscode": {
     "languageId": "python"
    }
   },
   "outputs": [
    {
     "data": {
      "text/plain": [
       "{'desktop', 'ipad', 'notebook'}"
      ]
     },
     "execution_count": 153,
     "metadata": {},
     "output_type": "execute_result"
    }
   ],
   "source": [
    "a={'desktop', 'ipad', 'notebook'}\n",
    "a"
   ]
  },
  {
   "cell_type": "code",
   "execution_count": 154,
   "id": "9012a710-34c7-4bf1-877e-73ff9c0cde93",
   "metadata": {
    "vscode": {
     "languageId": "python"
    }
   },
   "outputs": [
    {
     "data": {
      "text/plain": [
       "True"
      ]
     },
     "execution_count": 154,
     "metadata": {},
     "output_type": "execute_result"
    }
   ],
   "source": [
    "'notebook' in a"
   ]
  },
  {
   "cell_type": "markdown",
   "id": "ed8322c7-233b-4fc7-8671-3aa3999afec4",
   "metadata": {},
   "source": [
    "- 참고로 `in`연산자는 집합에서만 쓰는것은 아님 "
   ]
  },
  {
   "cell_type": "markdown",
   "id": "8f5f76ff-4d92-4417-b350-9e68709ad1c3",
   "metadata": {},
   "source": [
    "`-` 합집합, 교집합, 차집합"
   ]
  },
  {
   "cell_type": "code",
   "execution_count": 160,
   "id": "9f317348-2e2d-4e22-a7f0-71ee630cdb86",
   "metadata": {
    "vscode": {
     "languageId": "python"
    }
   },
   "outputs": [],
   "source": [
    "day1 = {'notebook','desktop'}\n",
    "day2 = {'notebook','ipad'}"
   ]
  },
  {
   "cell_type": "code",
   "execution_count": 166,
   "id": "3a78deb0-ce0b-4cd2-8e29-2ba4ed1580ea",
   "metadata": {
    "vscode": {
     "languageId": "python"
    }
   },
   "outputs": [
    {
     "data": {
      "text/plain": [
       "{'desktop', 'ipad', 'notebook'}"
      ]
     },
     "execution_count": 166,
     "metadata": {},
     "output_type": "execute_result"
    }
   ],
   "source": [
    "day1 | day2 # 합집합"
   ]
  },
  {
   "cell_type": "code",
   "execution_count": 167,
   "id": "77ded6de-5103-4c29-bd4c-19749617cf05",
   "metadata": {
    "vscode": {
     "languageId": "python"
    }
   },
   "outputs": [
    {
     "data": {
      "text/plain": [
       "{'notebook'}"
      ]
     },
     "execution_count": 167,
     "metadata": {},
     "output_type": "execute_result"
    }
   ],
   "source": [
    "day1 & day2 # 교집합"
   ]
  },
  {
   "cell_type": "code",
   "execution_count": 168,
   "id": "008969e8-0ef1-4fb4-9188-715979c078d0",
   "metadata": {
    "vscode": {
     "languageId": "python"
    }
   },
   "outputs": [
    {
     "data": {
      "text/plain": [
       "{'desktop'}"
      ]
     },
     "execution_count": 168,
     "metadata": {},
     "output_type": "execute_result"
    }
   ],
   "source": [
    "day1 - day2 # 차집합 "
   ]
  },
  {
   "cell_type": "code",
   "execution_count": 169,
   "id": "2fe57f39-ba60-4b4a-9574-4770c0eae6f4",
   "metadata": {
    "vscode": {
     "languageId": "python"
    }
   },
   "outputs": [
    {
     "data": {
      "text/plain": [
       "{'ipad'}"
      ]
     },
     "execution_count": 169,
     "metadata": {},
     "output_type": "execute_result"
    }
   ],
   "source": [
    "day2 - day1 # 차집합"
   ]
  },
  {
   "cell_type": "markdown",
   "id": "b547d19e-157c-4430-99e3-22d3ed14b304",
   "metadata": {},
   "source": [
    "`-` 부분집합 "
   ]
  },
  {
   "cell_type": "code",
   "execution_count": 170,
   "id": "2a1ca2cf-2c73-4e3b-80c0-b14c63d8e34a",
   "metadata": {
    "vscode": {
     "languageId": "python"
    }
   },
   "outputs": [],
   "source": [
    "day1 = {'notebook', 'desktop'}\n",
    "day2 = day1 | {'ipad'} "
   ]
  },
  {
   "cell_type": "code",
   "execution_count": 176,
   "id": "83e36355-7f25-4f7c-a48f-81823e36de29",
   "metadata": {
    "vscode": {
     "languageId": "python"
    }
   },
   "outputs": [
    {
     "data": {
      "text/plain": [
       "True"
      ]
     },
     "execution_count": 176,
     "metadata": {},
     "output_type": "execute_result"
    }
   ],
   "source": [
    "day1 < day2  # day1는 day2의 부분집합인가? "
   ]
  },
  {
   "cell_type": "code",
   "execution_count": 177,
   "id": "c74a0076-9bdd-41fd-9ccb-1f2b9bab82ea",
   "metadata": {
    "vscode": {
     "languageId": "python"
    }
   },
   "outputs": [
    {
     "data": {
      "text/plain": [
       "False"
      ]
     },
     "execution_count": 177,
     "metadata": {},
     "output_type": "execute_result"
    }
   ],
   "source": [
    "day2 < day1"
   ]
  },
  {
   "cell_type": "markdown",
   "id": "a985c959-b6f5-4721-adca-4de517787163",
   "metadata": {},
   "source": [
    "## 메소드 "
   ]
  },
  {
   "cell_type": "markdown",
   "id": "518d03b7-51df-4603-aac0-e14c9d7282b5",
   "metadata": {},
   "source": [
    "`-` 합집합 "
   ]
  },
  {
   "cell_type": "code",
   "execution_count": 179,
   "id": "34997ef3-c182-4dce-b7e1-734e4733e130",
   "metadata": {
    "vscode": {
     "languageId": "python"
    }
   },
   "outputs": [],
   "source": [
    "day1 = {'notebook', 'desktop'}\n",
    "day2 = {'notebook','ipad'}"
   ]
  },
  {
   "cell_type": "code",
   "execution_count": 180,
   "id": "17a086d2-4b6e-476a-a69e-2bb1f59211f4",
   "metadata": {
    "vscode": {
     "languageId": "python"
    }
   },
   "outputs": [
    {
     "data": {
      "text/plain": [
       "{'desktop', 'ipad', 'notebook'}"
      ]
     },
     "execution_count": 180,
     "metadata": {},
     "output_type": "execute_result"
    }
   ],
   "source": [
    "day1.union(day2)"
   ]
  },
  {
   "cell_type": "markdown",
   "id": "ec8e804b-983b-4630-b45c-ba6444196645",
   "metadata": {},
   "source": [
    "`-` 나머지 메소드는 스스로 찾아보세요 "
   ]
  },
  {
   "cell_type": "markdown",
   "id": "4bf0ff1b-66da-4104-b201-9452887427d6",
   "metadata": {},
   "source": [
    "## for문 "
   ]
  },
  {
   "cell_type": "code",
   "execution_count": 181,
   "id": "325b01a0-1fef-49f9-bd10-c8223cc44c70",
   "metadata": {
    "vscode": {
     "languageId": "python"
    }
   },
   "outputs": [],
   "source": [
    "day1 = {'notebook', 'desktop'}\n",
    "day2 = {'notebook','ipad'}"
   ]
  },
  {
   "cell_type": "code",
   "execution_count": 182,
   "id": "0ca82a6a-4dd1-4e92-bec7-64b9bd17e332",
   "metadata": {
    "vscode": {
     "languageId": "python"
    }
   },
   "outputs": [
    {
     "name": "stdout",
     "output_type": "stream",
     "text": [
      "ipad\n",
      "notebook\n",
      "desktop\n"
     ]
    }
   ],
   "source": [
    "for i in day1|day2: \n",
    "    print(i)"
   ]
  },
  {
   "cell_type": "markdown",
   "id": "b682ee01-bc9b-4755-987f-9fa5beb72b2e",
   "metadata": {},
   "source": [
    "# Quiz"
   ]
  },
  {
   "cell_type": "markdown",
   "id": "f5ae4c1d-6227-4363-ac28-2e8a1021747a",
   "metadata": {},
   "source": [
    "길이가 4인 집합을 두개만들고 공통원소를 2개로 설정한뒤 합집합을 구하는 코드를 작성하라. "
   ]
  }
 ],
 "metadata": {
  "kernelspec": {
   "display_name": "Python 3",
   "language": "python",
   "name": "python3"
  }
 },
 "nbformat": 4,
 "nbformat_minor": 5
}
