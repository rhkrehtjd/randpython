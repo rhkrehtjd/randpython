{
 "cells": [
  {
   "cell_type": "markdown",
   "id": "f226038d-c24f-42c2-a9a6-c2b23ea76483",
   "metadata": {},
   "source": [
    "# Intro "
   ]
  },
  {
   "cell_type": "markdown",
   "id": "94150770-ffae-4a61-8011-d58593f8fddd",
   "metadata": {},
   "source": [
    "`-` 파이썬의 기본자료형은 int, float, bool, str, list, tuple, dict, set 등이 있다.\n",
    "\n",
    "- 0차원 자료형: int, float, bool \n",
    "- 1차원 자료형: str, list, tuple, dict, set"
   ]
  },
  {
   "cell_type": "markdown",
   "id": "8765d352-8564-4b4d-8626-2225a819ea13",
   "metadata": {},
   "source": [
    "# int, float, bool "
   ]
  },
  {
   "cell_type": "markdown",
   "id": "def958b3-47d0-4cd3-8507-4e1e42c36ddc",
   "metadata": {},
   "source": [
    "`-` int형 "
   ]
  },
  {
   "cell_type": "code",
   "execution_count": 14,
   "id": "1b29ab3b-e2e5-4798-95ce-641e3770a020",
   "metadata": {
    "vscode": {
     "languageId": "python"
    }
   },
   "outputs": [],
   "source": [
    "a=100"
   ]
  },
  {
   "cell_type": "code",
   "execution_count": 15,
   "id": "1e52610d-ea3a-4dab-8b69-d04705d759ba",
   "metadata": {
    "vscode": {
     "languageId": "python"
    }
   },
   "outputs": [
    {
     "data": {
      "text/plain": [
       "int"
      ]
     },
     "execution_count": 15,
     "metadata": {},
     "output_type": "execute_result"
    }
   ],
   "source": [
    "type(a)"
   ]
  },
  {
   "cell_type": "markdown",
   "id": "cc1fbbeb-068b-42a6-8c0c-9772b952428c",
   "metadata": {},
   "source": [
    "`-` float형 "
   ]
  },
  {
   "cell_type": "code",
   "execution_count": 7,
   "id": "bcfcd346-1943-4b3d-a5be-3e77657aa3f1",
   "metadata": {
    "vscode": {
     "languageId": "python"
    }
   },
   "outputs": [
    {
     "data": {
      "text/plain": [
       "3.5999999999999996"
      ]
     },
     "execution_count": 7,
     "metadata": {},
     "output_type": "execute_result"
    }
   ],
   "source": [
    "a=1.2*3\n",
    "a"
   ]
  },
  {
   "cell_type": "code",
   "execution_count": 19,
   "id": "6c60ce75-b0d1-490e-9c11-6fe2dae2d738",
   "metadata": {
    "vscode": {
     "languageId": "python"
    }
   },
   "outputs": [
    {
     "data": {
      "text/plain": [
       "float"
      ]
     },
     "execution_count": 19,
     "metadata": {},
     "output_type": "execute_result"
    }
   ],
   "source": [
    "type(a)"
   ]
  },
  {
   "cell_type": "code",
   "execution_count": 20,
   "id": "6e44e4e8-9241-466d-90f5-ce0e648352b6",
   "metadata": {
    "vscode": {
     "languageId": "python"
    }
   },
   "outputs": [
    {
     "data": {
      "text/plain": [
       "\u001b[0;31mType:\u001b[0m        float\n",
       "\u001b[0;31mString form:\u001b[0m 3.5999999999999996\n",
       "\u001b[0;31mDocstring:\u001b[0m   Convert a string or number to a floating point number, if possible.\n"
      ]
     },
     "metadata": {},
     "output_type": "display_data"
    }
   ],
   "source": [
    "a?"
   ]
  },
  {
   "cell_type": "markdown",
   "id": "c9636480-fc45-4e36-8f4b-dd7275f74fce",
   "metadata": {},
   "source": [
    "`-` bool형 "
   ]
  },
  {
   "cell_type": "code",
   "execution_count": 52,
   "id": "c4e1bd78-23d3-4404-8356-ec6c6bcc0c13",
   "metadata": {
    "vscode": {
     "languageId": "python"
    }
   },
   "outputs": [],
   "source": [
    "a=True ## 숫자1으로 생각할 수 있음 \n",
    "b=False ## 숫자0으로 생각할 수 있음"
   ]
  },
  {
   "cell_type": "code",
   "execution_count": 24,
   "id": "1ad75565-03c3-4ac4-844f-6a312de68f66",
   "metadata": {
    "vscode": {
     "languageId": "python"
    }
   },
   "outputs": [
    {
     "data": {
      "text/plain": [
       "bool"
      ]
     },
     "execution_count": 24,
     "metadata": {},
     "output_type": "execute_result"
    }
   ],
   "source": [
    "type(a)"
   ]
  },
  {
   "cell_type": "code",
   "execution_count": 25,
   "id": "0f530cc8-0d85-4d56-8902-8dadc37bed9d",
   "metadata": {
    "vscode": {
     "languageId": "python"
    }
   },
   "outputs": [
    {
     "data": {
      "text/plain": [
       "bool"
      ]
     },
     "execution_count": 25,
     "metadata": {},
     "output_type": "execute_result"
    }
   ],
   "source": [
    "type(b)"
   ]
  },
  {
   "cell_type": "code",
   "execution_count": 27,
   "id": "aa5e54d7-7c8c-4398-9efb-260adc33af46",
   "metadata": {
    "vscode": {
     "languageId": "python"
    }
   },
   "outputs": [
    {
     "data": {
      "text/plain": [
       "\u001b[0;31mType:\u001b[0m        bool\n",
       "\u001b[0;31mString form:\u001b[0m True\n",
       "\u001b[0;31mDocstring:\u001b[0m  \n",
       "bool(x) -> bool\n",
       "\n",
       "Returns True when the argument x is true, False otherwise.\n",
       "The builtins True and False are the only two instances of the class bool.\n",
       "The class bool is a subclass of the class int, and cannot be subclassed.\n"
      ]
     },
     "metadata": {},
     "output_type": "display_data"
    }
   ],
   "source": [
    "a?"
   ]
  },
  {
   "cell_type": "code",
   "execution_count": 28,
   "id": "80f65837-5acb-46f2-acaf-3f46e2fcda73",
   "metadata": {
    "vscode": {
     "languageId": "python"
    }
   },
   "outputs": [
    {
     "data": {
      "text/plain": [
       "\u001b[0;31mType:\u001b[0m        bool\n",
       "\u001b[0;31mString form:\u001b[0m False\n",
       "\u001b[0;31mDocstring:\u001b[0m  \n",
       "bool(x) -> bool\n",
       "\n",
       "Returns True when the argument x is true, False otherwise.\n",
       "The builtins True and False are the only two instances of the class bool.\n",
       "The class bool is a subclass of the class int, and cannot be subclassed.\n"
      ]
     },
     "metadata": {},
     "output_type": "display_data"
    }
   ],
   "source": [
    "b?"
   ]
  },
  {
   "cell_type": "markdown",
   "id": "c5477454-5c0e-4767-b53f-53022aeac2a6",
   "metadata": {},
   "source": [
    "`-` bool형의 연산 "
   ]
  },
  {
   "cell_type": "code",
   "execution_count": 15,
   "id": "09d23a5e-0ae5-46fe-b9e3-35ca4d2921eb",
   "metadata": {
    "vscode": {
     "languageId": "python"
    }
   },
   "outputs": [],
   "source": [
    "a=True ## 1\n",
    "b=False ## 0 "
   ]
  },
  {
   "cell_type": "code",
   "execution_count": 66,
   "id": "003980a9-ba53-48cd-a85f-759b7e5797d4",
   "metadata": {
    "vscode": {
     "languageId": "python"
    }
   },
   "outputs": [
    {
     "data": {
      "text/plain": [
       "1"
      ]
     },
     "execution_count": 66,
     "metadata": {},
     "output_type": "execute_result"
    }
   ],
   "source": [
    "a+b"
   ]
  },
  {
   "cell_type": "code",
   "execution_count": 67,
   "id": "60c4bb4e-45b8-4b98-8de2-c2e3883741e7",
   "metadata": {
    "vscode": {
     "languageId": "python"
    }
   },
   "outputs": [
    {
     "data": {
      "text/plain": [
       "0"
      ]
     },
     "execution_count": 67,
     "metadata": {},
     "output_type": "execute_result"
    }
   ],
   "source": [
    "a*b "
   ]
  },
  {
   "cell_type": "markdown",
   "id": "a2623a61-1294-452f-84dc-67d37c9328d6",
   "metadata": {},
   "source": [
    "`-` complex형 "
   ]
  },
  {
   "cell_type": "code",
   "execution_count": 1,
   "id": "4b351f96-81a0-4b8e-a7cf-5fc09c2d6f09",
   "metadata": {
    "vscode": {
     "languageId": "python"
    }
   },
   "outputs": [],
   "source": [
    "a=1+2j\n",
    "b=2-2j"
   ]
  },
  {
   "cell_type": "code",
   "execution_count": 2,
   "id": "4fc2d9d3-8f71-469e-bf1e-d95c9398d41a",
   "metadata": {
    "vscode": {
     "languageId": "python"
    }
   },
   "outputs": [
    {
     "data": {
      "text/plain": [
       "complex"
      ]
     },
     "execution_count": 2,
     "metadata": {},
     "output_type": "execute_result"
    }
   ],
   "source": [
    "type(a)"
   ]
  },
  {
   "cell_type": "code",
   "execution_count": 3,
   "id": "82c43ae8-8f36-487c-aaa5-84fe071781e1",
   "metadata": {
    "vscode": {
     "languageId": "python"
    }
   },
   "outputs": [
    {
     "data": {
      "text/plain": [
       "complex"
      ]
     },
     "execution_count": 3,
     "metadata": {},
     "output_type": "execute_result"
    }
   ],
   "source": [
    "type(b)"
   ]
  },
  {
   "cell_type": "code",
   "execution_count": 4,
   "id": "fc19f936-bb90-4f7e-ad02-287f60ef4c44",
   "metadata": {
    "vscode": {
     "languageId": "python"
    }
   },
   "outputs": [
    {
     "data": {
      "text/plain": [
       "\u001b[0;31mType:\u001b[0m        complex\n",
       "\u001b[0;31mString form:\u001b[0m (1+2j)\n",
       "\u001b[0;31mDocstring:\u001b[0m  \n",
       "Create a complex number from a real part and an optional imaginary part.\n",
       "\n",
       "This is equivalent to (real + imag*1j) where imag defaults to 0.\n"
      ]
     },
     "metadata": {},
     "output_type": "display_data"
    }
   ],
   "source": [
    "a?"
   ]
  },
  {
   "cell_type": "code",
   "execution_count": 5,
   "id": "0da15cd7-3cb3-49cb-b849-691ef89c9cec",
   "metadata": {
    "vscode": {
     "languageId": "python"
    }
   },
   "outputs": [
    {
     "data": {
      "text/plain": [
       "\u001b[0;31mType:\u001b[0m        complex\n",
       "\u001b[0;31mString form:\u001b[0m (2-2j)\n",
       "\u001b[0;31mDocstring:\u001b[0m  \n",
       "Create a complex number from a real part and an optional imaginary part.\n",
       "\n",
       "This is equivalent to (real + imag*1j) where imag defaults to 0.\n"
      ]
     },
     "metadata": {},
     "output_type": "display_data"
    }
   ],
   "source": [
    "b?"
   ]
  },
  {
   "cell_type": "code",
   "execution_count": 6,
   "id": "2728c8cb-29ef-4f1c-b86b-b659513ea72b",
   "metadata": {
    "vscode": {
     "languageId": "python"
    }
   },
   "outputs": [],
   "source": [
    "c=a+b"
   ]
  },
  {
   "cell_type": "code",
   "execution_count": 7,
   "id": "9260fbea-0887-4141-b7a0-9424648ccd7e",
   "metadata": {
    "vscode": {
     "languageId": "python"
    }
   },
   "outputs": [
    {
     "data": {
      "text/plain": [
       "(3+0j)"
      ]
     },
     "execution_count": 7,
     "metadata": {},
     "output_type": "execute_result"
    }
   ],
   "source": [
    "c"
   ]
  },
  {
   "cell_type": "code",
   "execution_count": 8,
   "id": "16ce13d4-cbf6-422f-a230-7b234d4abb4d",
   "metadata": {},
   "outputs": [
    {
     "data": {
      "text/plain": [
       "\u001b[0;31mType:\u001b[0m        complex\n",
       "\u001b[0;31mString form:\u001b[0m (3+0j)\n",
       "\u001b[0;31mDocstring:\u001b[0m  \n",
       "Create a complex number from a real part and an optional imaginary part.\n",
       "\n",
       "This is equivalent to (real + imag*1j) where imag defaults to 0.\n"
      ]
     },
     "metadata": {},
     "output_type": "display_data"
    }
   ],
   "source": [
    "c?"
   ]
  },
  {
   "cell_type": "markdown",
   "id": "e580df44-ed31-4009-9f1f-ea166214d6f3",
   "metadata": {},
   "source": [
    "`-` 형태변환: float $\\to$ int "
   ]
  },
  {
   "cell_type": "markdown",
   "id": "5e5acacb-93eb-420a-a461-1b308766e4e1",
   "metadata": {},
   "source": [
    "(예시1)"
   ]
  },
  {
   "cell_type": "code",
   "execution_count": 27,
   "id": "8751c225-3b8d-44e2-bfcf-daf58499fba1",
   "metadata": {
    "vscode": {
     "languageId": "python"
    }
   },
   "outputs": [
    {
     "data": {
      "text/plain": [
       "float"
      ]
     },
     "execution_count": 27,
     "metadata": {},
     "output_type": "execute_result"
    }
   ],
   "source": [
    "a=3.0\n",
    "type(a)"
   ]
  },
  {
   "cell_type": "code",
   "execution_count": 28,
   "id": "d1d6a707-a6d1-474b-b211-700f22e2279d",
   "metadata": {
    "vscode": {
     "languageId": "python"
    }
   },
   "outputs": [],
   "source": [
    "a=int(a)"
   ]
  },
  {
   "cell_type": "code",
   "execution_count": 29,
   "id": "7269c089-b331-46f7-9670-7ba20e0271b6",
   "metadata": {
    "vscode": {
     "languageId": "python"
    }
   },
   "outputs": [
    {
     "data": {
      "text/plain": [
       "int"
      ]
     },
     "execution_count": 29,
     "metadata": {},
     "output_type": "execute_result"
    }
   ],
   "source": [
    "type(a)"
   ]
  },
  {
   "cell_type": "markdown",
   "id": "7559a5dd-4e3e-4c07-9494-fbbcfdb3de2b",
   "metadata": {},
   "source": [
    "(예시2) 이경우는 정보의 손실이 발생 "
   ]
  },
  {
   "cell_type": "code",
   "execution_count": 30,
   "id": "4ad501ec-a3f0-4514-a79e-dbb6ee1d1a8f",
   "metadata": {
    "vscode": {
     "languageId": "python"
    }
   },
   "outputs": [
    {
     "data": {
      "text/plain": [
       "3"
      ]
     },
     "execution_count": 30,
     "metadata": {},
     "output_type": "execute_result"
    }
   ],
   "source": [
    "a=3.14 \n",
    "int(a)"
   ]
  },
  {
   "cell_type": "markdown",
   "id": "008c9f99-21da-4a40-8253-91c2a25f80a8",
   "metadata": {},
   "source": [
    "`-` 형태변환: int $\\to$ float"
   ]
  },
  {
   "cell_type": "code",
   "execution_count": 39,
   "id": "addde2a1-d032-4db9-9e43-2608d530886f",
   "metadata": {
    "vscode": {
     "languageId": "python"
    }
   },
   "outputs": [
    {
     "data": {
      "text/plain": [
       "int"
      ]
     },
     "execution_count": 39,
     "metadata": {},
     "output_type": "execute_result"
    }
   ],
   "source": [
    "a=3\n",
    "type(a)"
   ]
  },
  {
   "cell_type": "code",
   "execution_count": 40,
   "id": "09cf6cef-19a2-4573-a8f1-aa59dda5c0c6",
   "metadata": {
    "vscode": {
     "languageId": "python"
    }
   },
   "outputs": [
    {
     "data": {
      "text/plain": [
       "float"
      ]
     },
     "execution_count": 40,
     "metadata": {},
     "output_type": "execute_result"
    }
   ],
   "source": [
    "a=float(a)\n",
    "type(a)"
   ]
  },
  {
   "cell_type": "markdown",
   "id": "44f3f700-7f27-4ca1-b5d1-9fec75adb337",
   "metadata": {},
   "source": [
    "`-` 형태변환: bool $\\to$ int/float, int/float $\\to$ bool "
   ]
  },
  {
   "cell_type": "markdown",
   "id": "c4ab41ef-df89-4257-b5f7-ee61518d1111",
   "metadata": {},
   "source": [
    "(예시1)"
   ]
  },
  {
   "cell_type": "code",
   "execution_count": 41,
   "id": "d794074c-780e-4859-9fc9-488e74565c34",
   "metadata": {
    "vscode": {
     "languageId": "python"
    }
   },
   "outputs": [
    {
     "data": {
      "text/plain": [
       "bool"
      ]
     },
     "execution_count": 41,
     "metadata": {},
     "output_type": "execute_result"
    }
   ],
   "source": [
    "a=True\n",
    "type(a)"
   ]
  },
  {
   "cell_type": "code",
   "execution_count": 42,
   "id": "611c4f59-2c10-42e9-b6f0-70009a2c02d9",
   "metadata": {
    "vscode": {
     "languageId": "python"
    }
   },
   "outputs": [
    {
     "data": {
      "text/plain": [
       "1"
      ]
     },
     "execution_count": 42,
     "metadata": {},
     "output_type": "execute_result"
    }
   ],
   "source": [
    "int(a)"
   ]
  },
  {
   "cell_type": "code",
   "execution_count": 43,
   "id": "d4405022-cf13-4882-a330-b8cc5634c94e",
   "metadata": {
    "vscode": {
     "languageId": "python"
    }
   },
   "outputs": [
    {
     "data": {
      "text/plain": [
       "1.0"
      ]
     },
     "execution_count": 43,
     "metadata": {},
     "output_type": "execute_result"
    }
   ],
   "source": [
    "float(a)"
   ]
  },
  {
   "cell_type": "markdown",
   "id": "11c4227d-596b-44fe-8758-b423b7522548",
   "metadata": {},
   "source": [
    "(예시2)"
   ]
  },
  {
   "cell_type": "code",
   "execution_count": 59,
   "id": "9eb7accd-ccb8-4cfe-9cc1-ef51520ae0b7",
   "metadata": {
    "vscode": {
     "languageId": "python"
    }
   },
   "outputs": [
    {
     "data": {
      "text/plain": [
       "True"
      ]
     },
     "execution_count": 59,
     "metadata": {},
     "output_type": "execute_result"
    }
   ],
   "source": [
    "a=1 \n",
    "bool(a)"
   ]
  },
  {
   "cell_type": "code",
   "execution_count": 60,
   "id": "244da79f-8c49-4d3d-b5a1-de87c6372a00",
   "metadata": {
    "vscode": {
     "languageId": "python"
    }
   },
   "outputs": [
    {
     "data": {
      "text/plain": [
       "False"
      ]
     },
     "execution_count": 60,
     "metadata": {},
     "output_type": "execute_result"
    }
   ],
   "source": [
    "a=0\n",
    "bool(a)"
   ]
  },
  {
   "cell_type": "markdown",
   "id": "2d7b3273-e5ab-489d-841e-a67ea6d435ea",
   "metadata": {},
   "source": [
    "(예시3)"
   ]
  },
  {
   "cell_type": "code",
   "execution_count": 61,
   "id": "dcde50c5-33fc-49c7-b416-af42b06607a3",
   "metadata": {
    "vscode": {
     "languageId": "python"
    }
   },
   "outputs": [
    {
     "data": {
      "text/plain": [
       "True"
      ]
     },
     "execution_count": 61,
     "metadata": {},
     "output_type": "execute_result"
    }
   ],
   "source": [
    "a=1.0\n",
    "bool(a)"
   ]
  },
  {
   "cell_type": "code",
   "execution_count": 62,
   "id": "41a9a3ab-6f02-466d-acbe-65687bbb5cad",
   "metadata": {
    "vscode": {
     "languageId": "python"
    }
   },
   "outputs": [
    {
     "data": {
      "text/plain": [
       "False"
      ]
     },
     "execution_count": 62,
     "metadata": {},
     "output_type": "execute_result"
    }
   ],
   "source": [
    "a=0.0\n",
    "bool(a)"
   ]
  },
  {
   "cell_type": "markdown",
   "id": "ba625d32-3961-42c3-8993-659724eb7a27",
   "metadata": {},
   "source": [
    "`-` 이상한 형태변환도 가능하다. (이런것도 바꿔주나 싶은것도 바꿔줌) "
   ]
  },
  {
   "cell_type": "code",
   "execution_count": 9,
   "id": "93a47581-0871-429a-857f-b6826525e196",
   "metadata": {
    "vscode": {
     "languageId": "python"
    }
   },
   "outputs": [
    {
     "data": {
      "text/plain": [
       "True"
      ]
     },
     "execution_count": 9,
     "metadata": {},
     "output_type": "execute_result"
    }
   ],
   "source": [
    "bool(-3.14)"
   ]
  },
  {
   "cell_type": "code",
   "execution_count": 10,
   "id": "f719157b-2b3a-4b8e-8135-4b4fcb70e011",
   "metadata": {
    "vscode": {
     "languageId": "python"
    }
   },
   "outputs": [
    {
     "data": {
      "text/plain": [
       "False"
      ]
     },
     "execution_count": 10,
     "metadata": {},
     "output_type": "execute_result"
    }
   ],
   "source": [
    "bool(-0.00)"
   ]
  },
  {
   "cell_type": "markdown",
   "id": "b8d27795-e840-4046-8f80-63266dc58ecb",
   "metadata": {},
   "source": [
    "- 저는 이런 코드를 의도적으로 사용하지 않아요.. "
   ]
  },
  {
   "cell_type": "code",
   "execution_count": 74,
   "id": "ce3d8847-d9d7-4e02-95ea-e1e9861156c1",
   "metadata": {
    "vscode": {
     "languageId": "python"
    }
   },
   "outputs": [
    {
     "data": {
      "text/plain": [
       "3"
      ]
     },
     "execution_count": 74,
     "metadata": {},
     "output_type": "execute_result"
    }
   ],
   "source": [
    "int(3.14)"
   ]
  },
  {
   "cell_type": "markdown",
   "id": "83b3a37c-2e9a-4f45-a5eb-17b873fd20a1",
   "metadata": {},
   "source": [
    "`-` 형태변환이 항상가능한것도 아님 "
   ]
  },
  {
   "cell_type": "code",
   "execution_count": 78,
   "id": "828f77b2-b409-4bb7-b3c9-b1df1611fa0f",
   "metadata": {
    "vscode": {
     "languageId": "python"
    }
   },
   "outputs": [
    {
     "ename": "TypeError",
     "evalue": "can't convert complex to float",
     "output_type": "error",
     "traceback": [
      "\u001b[0;31m---------------------------------------------------------------------------\u001b[0m",
      "\u001b[0;31mTypeError\u001b[0m                                 Traceback (most recent call last)",
      "Input \u001b[0;32mIn [78]\u001b[0m, in \u001b[0;36m<module>\u001b[0;34m\u001b[0m\n\u001b[0;32m----> 1\u001b[0m \u001b[38;5;28;43mfloat\u001b[39;49m\u001b[43m(\u001b[49m\u001b[38;5;241;43m3\u001b[39;49m\u001b[38;5;241;43m+\u001b[39;49m\u001b[38;5;241;43m0\u001b[39;49m\u001b[43mj\u001b[49m\u001b[43m)\u001b[49m\n",
      "\u001b[0;31mTypeError\u001b[0m: can't convert complex to float"
     ]
    }
   ],
   "source": [
    "float(3+0j) # 사실상 3+0j=3 이므로 float으로 형변환하면 3.0이 되어야 할 것 같은데 변환불가능하다. "
   ]
  },
  {
   "cell_type": "markdown",
   "id": "969ad7c4-9a97-40eb-9178-f1f3c9e5e0c9",
   "metadata": {},
   "source": [
    "`-` 암묵적형변환 (implicit) \n",
    "  - 이거 은근 중요"
   ]
  },
  {
   "cell_type": "markdown",
   "id": "cc097315-9aff-42ba-990e-b06d97434496",
   "metadata": {},
   "source": [
    "(예비학습) implicit의 의미 \n",
    "- 추운날씨 -> 보일러좀 틀자! (explicit) / 오늘 날씨 좀 추운 것 같지 않아? (implicit) \n",
    "- 짜장면 먹을래? -> 싫어! (explicit) / 난 어제 짜장면 먹었는데.. (implicit)"
   ]
  },
  {
   "cell_type": "markdown",
   "id": "fc2b82c7-4ef4-4c67-963b-b5b504f39f6b",
   "metadata": {},
   "source": [
    "(예제) "
   ]
  },
  {
   "cell_type": "code",
   "execution_count": 50,
   "id": "fe791eb2-d4dc-47c5-aafe-b4b28835313c",
   "metadata": {
    "vscode": {
     "languageId": "python"
    }
   },
   "outputs": [
    {
     "data": {
      "text/plain": [
       "1"
      ]
     },
     "execution_count": 50,
     "metadata": {},
     "output_type": "execute_result"
    }
   ],
   "source": [
    "True * 1 # 1을 곱할건데 너 계속 True로 있을꺼야? "
   ]
  },
  {
   "cell_type": "code",
   "execution_count": 82,
   "id": "8e2b60c4-2861-4023-89f7-543953d0e148",
   "metadata": {
    "vscode": {
     "languageId": "python"
    }
   },
   "outputs": [
    {
     "data": {
      "text/plain": [
       "1.0"
      ]
     },
     "execution_count": 82,
     "metadata": {},
     "output_type": "execute_result"
    }
   ],
   "source": [
    "1 * 1.0 # 1.0을 곱할건데 너 계속 int로 있을꺼야? "
   ]
  },
  {
   "cell_type": "code",
   "execution_count": 84,
   "id": "5ff47f52-9289-420f-929c-690ddcb7fcc3",
   "metadata": {
    "vscode": {
     "languageId": "python"
    }
   },
   "outputs": [
    {
     "data": {
      "text/plain": [
       "2"
      ]
     },
     "execution_count": 84,
     "metadata": {},
     "output_type": "execute_result"
    }
   ],
   "source": [
    "True+True # +연산을 할건데 계속 True로 있을꺼야? "
   ]
  },
  {
   "cell_type": "markdown",
   "id": "15a0a99a-fd0c-480e-a60a-6df1704b7038",
   "metadata": {},
   "source": [
    "# str"
   ]
  },
  {
   "cell_type": "markdown",
   "id": "59caa3b4-5ac8-43bb-81c1-bc66243f040b",
   "metadata": {},
   "source": [
    "## 선언 "
   ]
  },
  {
   "cell_type": "code",
   "execution_count": 51,
   "id": "48034256-e511-487e-b301-82b00e2deb6c",
   "metadata": {
    "vscode": {
     "languageId": "python"
    }
   },
   "outputs": [],
   "source": [
    "a='guebin'"
   ]
  },
  {
   "cell_type": "code",
   "execution_count": 86,
   "id": "136865a3-5158-4793-9fe6-a567be935611",
   "metadata": {
    "vscode": {
     "languageId": "python"
    }
   },
   "outputs": [
    {
     "data": {
      "text/plain": [
       "'guebin'"
      ]
     },
     "execution_count": 86,
     "metadata": {},
     "output_type": "execute_result"
    }
   ],
   "source": [
    "a"
   ]
  },
  {
   "cell_type": "markdown",
   "id": "84290c7d-7b9e-4d3a-ad48-a894cf7ebbf6",
   "metadata": {},
   "source": [
    "## 연산"
   ]
  },
  {
   "cell_type": "markdown",
   "id": "6b16bda5-3d26-4d27-af50-b2348ea5870f",
   "metadata": {},
   "source": [
    "`-` 더하기(+)연산 "
   ]
  },
  {
   "cell_type": "code",
   "execution_count": 53,
   "id": "be9a5df0-ab45-4125-9e40-0f4aaa3f84c7",
   "metadata": {
    "vscode": {
     "languageId": "python"
    }
   },
   "outputs": [],
   "source": [
    "a='X'\n",
    "b='2'"
   ]
  },
  {
   "cell_type": "code",
   "execution_count": 91,
   "id": "7e17e8a8-336e-42fc-a73f-6b2efc4179b5",
   "metadata": {
    "vscode": {
     "languageId": "python"
    }
   },
   "outputs": [
    {
     "data": {
      "text/plain": [
       "'X2'"
      ]
     },
     "execution_count": 91,
     "metadata": {},
     "output_type": "execute_result"
    }
   ],
   "source": [
    "c=a+b\n",
    "c"
   ]
  },
  {
   "cell_type": "markdown",
   "id": "c19b88c3-c552-422c-9215-eb22cfb1004e",
   "metadata": {},
   "source": [
    "`-` 빼기(-)연산 "
   ]
  },
  {
   "cell_type": "code",
   "execution_count": 92,
   "id": "2e86c8f4-39b9-4667-82be-eff70f28ef63",
   "metadata": {
    "vscode": {
     "languageId": "python"
    }
   },
   "outputs": [
    {
     "ename": "TypeError",
     "evalue": "unsupported operand type(s) for -: 'str' and 'str'",
     "output_type": "error",
     "traceback": [
      "\u001b[0;31m---------------------------------------------------------------------------\u001b[0m",
      "\u001b[0;31mTypeError\u001b[0m                                 Traceback (most recent call last)",
      "Input \u001b[0;32mIn [92]\u001b[0m, in \u001b[0;36m<module>\u001b[0;34m\u001b[0m\n\u001b[1;32m      1\u001b[0m a\u001b[38;5;241m=\u001b[39m\u001b[38;5;124m'\u001b[39m\u001b[38;5;124mX2\u001b[39m\u001b[38;5;124m'\u001b[39m\n\u001b[1;32m      2\u001b[0m b\u001b[38;5;241m=\u001b[39m\u001b[38;5;124m'\u001b[39m\u001b[38;5;124m2\u001b[39m\u001b[38;5;124m'\u001b[39m\n\u001b[0;32m----> 3\u001b[0m \u001b[43ma\u001b[49m\u001b[38;5;241;43m-\u001b[39;49m\u001b[43mb\u001b[49m\n",
      "\u001b[0;31mTypeError\u001b[0m: unsupported operand type(s) for -: 'str' and 'str'"
     ]
    }
   ],
   "source": [
    "a='X2'\n",
    "b='2'\n",
    "a-b"
   ]
  },
  {
   "cell_type": "markdown",
   "id": "baed9f61-5abd-43bb-b8b8-15652c314d4c",
   "metadata": {},
   "source": [
    "- 이런건 없다. "
   ]
  },
  {
   "cell_type": "markdown",
   "id": "5941c787-d0a3-4c49-9381-dfde3a46f8c2",
   "metadata": {},
   "source": [
    "`-` 곱하기(*)연산"
   ]
  },
  {
   "cell_type": "code",
   "execution_count": 13,
   "id": "1f6b4c56-8344-498c-bebc-45b3d142e5f6",
   "metadata": {
    "vscode": {
     "languageId": "python"
    }
   },
   "outputs": [],
   "source": [
    "a='X'"
   ]
  },
  {
   "cell_type": "code",
   "execution_count": 14,
   "id": "a0e2a84e-6e48-4147-9c24-8aa5dc341485",
   "metadata": {
    "vscode": {
     "languageId": "python"
    }
   },
   "outputs": [
    {
     "data": {
      "text/plain": [
       "'XXX'"
      ]
     },
     "execution_count": 14,
     "metadata": {},
     "output_type": "execute_result"
    }
   ],
   "source": [
    "a+a+a"
   ]
  },
  {
   "cell_type": "code",
   "execution_count": 15,
   "id": "fce0fddd-d867-4710-9fc7-c583dc984a0a",
   "metadata": {
    "vscode": {
     "languageId": "python"
    }
   },
   "outputs": [
    {
     "data": {
      "text/plain": [
       "'XXX'"
      ]
     },
     "execution_count": 15,
     "metadata": {},
     "output_type": "execute_result"
    }
   ],
   "source": [
    "a*3 # a*3 = a+a+a = 'X'+'X+'X'"
   ]
  },
  {
   "cell_type": "markdown",
   "id": "40636cd9-3969-414e-9084-672c87e837a3",
   "metadata": {},
   "source": [
    "아래도 가능하다. "
   ]
  },
  {
   "cell_type": "code",
   "execution_count": 16,
   "id": "1049f471-c679-4adc-9684-30a72552fea7",
   "metadata": {
    "vscode": {
     "languageId": "python"
    }
   },
   "outputs": [
    {
     "data": {
      "text/plain": [
       "'XXX'"
      ]
     },
     "execution_count": 16,
     "metadata": {},
     "output_type": "execute_result"
    }
   ],
   "source": [
    "3*a"
   ]
  },
  {
   "cell_type": "code",
   "execution_count": 17,
   "id": "8537fc33-bc98-4fb6-a486-df4d34931f07",
   "metadata": {},
   "outputs": [
    {
     "ename": "TypeError",
     "evalue": "can't multiply sequence by non-int of type 'str'",
     "output_type": "error",
     "traceback": [
      "\u001b[0;31m---------------------------------------------------------------------------\u001b[0m",
      "\u001b[0;31mTypeError\u001b[0m                                 Traceback (most recent call last)",
      "Input \u001b[0;32mIn [17]\u001b[0m, in \u001b[0;36m<cell line: 1>\u001b[0;34m()\u001b[0m\n\u001b[0;32m----> 1\u001b[0m \u001b[43ma\u001b[49m\u001b[38;5;241;43m*\u001b[39;49m\u001b[43ma\u001b[49m\u001b[38;5;241m*\u001b[39ma\n",
      "\u001b[0;31mTypeError\u001b[0m: can't multiply sequence by non-int of type 'str'"
     ]
    }
   ],
   "source": [
    "a*a*a"
   ]
  },
  {
   "cell_type": "markdown",
   "id": "a653b809-02be-4a23-a926-621855441c51",
   "metadata": {},
   "source": [
    "그리고 아래도 가능하다. "
   ]
  },
  {
   "cell_type": "code",
   "execution_count": 67,
   "id": "e1e0e9cc-6710-4fd3-98de-bf52fcf95e58",
   "metadata": {
    "vscode": {
     "languageId": "python"
    }
   },
   "outputs": [
    {
     "data": {
      "text/plain": [
       "'XXX'"
      ]
     },
     "execution_count": 67,
     "metadata": {},
     "output_type": "execute_result"
    }
   ],
   "source": [
    "a='X'\n",
    "b=3 \n",
    "a*b"
   ]
  },
  {
   "cell_type": "markdown",
   "id": "b516d876-1462-4a34-8cd7-7f6e28906249",
   "metadata": {},
   "source": [
    "대신에 의미상 맞지 않는 것은 수행되지 않고 에러가 난다. "
   ]
  },
  {
   "cell_type": "code",
   "execution_count": 98,
   "id": "ab94b52a-fb8c-487b-8d11-06cabbf165f9",
   "metadata": {
    "vscode": {
     "languageId": "python"
    }
   },
   "outputs": [
    {
     "data": {
      "text/plain": [
       "'XY'"
      ]
     },
     "execution_count": 98,
     "metadata": {},
     "output_type": "execute_result"
    }
   ],
   "source": [
    "a='X'\n",
    "b='Y'\n",
    "a+b"
   ]
  },
  {
   "cell_type": "code",
   "execution_count": 99,
   "id": "603e1424-95d8-44c9-89ba-32e1169496d1",
   "metadata": {
    "vscode": {
     "languageId": "python"
    }
   },
   "outputs": [
    {
     "ename": "TypeError",
     "evalue": "can't multiply sequence by non-int of type 'str'",
     "output_type": "error",
     "traceback": [
      "\u001b[0;31m---------------------------------------------------------------------------\u001b[0m",
      "\u001b[0;31mTypeError\u001b[0m                                 Traceback (most recent call last)",
      "Input \u001b[0;32mIn [99]\u001b[0m, in \u001b[0;36m<module>\u001b[0;34m\u001b[0m\n\u001b[0;32m----> 1\u001b[0m \u001b[43ma\u001b[49m\u001b[38;5;241;43m*\u001b[39;49m\u001b[43mb\u001b[49m\n",
      "\u001b[0;31mTypeError\u001b[0m: can't multiply sequence by non-int of type 'str'"
     ]
    }
   ],
   "source": [
    "a*b"
   ]
  },
  {
   "cell_type": "markdown",
   "id": "83e3c41c-8f55-4620-a636-14d2ca758717",
   "metadata": {},
   "source": [
    "`-` 나눗셈(/)연산 "
   ]
  },
  {
   "cell_type": "code",
   "execution_count": 100,
   "id": "327ed7c6-87c0-4568-9490-9ab99e3469f0",
   "metadata": {
    "vscode": {
     "languageId": "python"
    }
   },
   "outputs": [],
   "source": [
    "a='XX'"
   ]
  },
  {
   "cell_type": "code",
   "execution_count": 101,
   "id": "90f7a615-29e3-4bc1-92e0-450b6a09f0c7",
   "metadata": {
    "vscode": {
     "languageId": "python"
    }
   },
   "outputs": [
    {
     "ename": "TypeError",
     "evalue": "unsupported operand type(s) for /: 'str' and 'int'",
     "output_type": "error",
     "traceback": [
      "\u001b[0;31m---------------------------------------------------------------------------\u001b[0m",
      "\u001b[0;31mTypeError\u001b[0m                                 Traceback (most recent call last)",
      "Input \u001b[0;32mIn [101]\u001b[0m, in \u001b[0;36m<module>\u001b[0;34m\u001b[0m\n\u001b[0;32m----> 1\u001b[0m \u001b[43ma\u001b[49m\u001b[38;5;241;43m/\u001b[39;49m\u001b[38;5;241;43m2\u001b[39;49m\n",
      "\u001b[0;31mTypeError\u001b[0m: unsupported operand type(s) for /: 'str' and 'int'"
     ]
    }
   ],
   "source": [
    "a/2"
   ]
  },
  {
   "cell_type": "markdown",
   "id": "956e134e-ebfb-4064-a7e8-b905d2e3f6d7",
   "metadata": {},
   "source": [
    "- 이런건 없다.. "
   ]
  },
  {
   "cell_type": "markdown",
   "id": "b406a3f1-a066-4ccd-9faf-009177e1760b",
   "metadata": {},
   "source": [
    "## 인덱싱"
   ]
  },
  {
   "cell_type": "markdown",
   "id": "f775db88-e616-4ccc-8cbf-a3ff6b69116a",
   "metadata": {},
   "source": [
    "`-` str은 하나의 벡터 문자가 여러개 있는 형태라고 생각하면 된다. "
   ]
  },
  {
   "cell_type": "code",
   "execution_count": 68,
   "id": "54ea14a2-efb9-4b5a-9b9b-4b67d2c6253e",
   "metadata": {
    "vscode": {
     "languageId": "python"
    }
   },
   "outputs": [],
   "source": [
    "a='guebin'"
   ]
  },
  {
   "cell_type": "code",
   "execution_count": 69,
   "id": "9eeee1f5-3966-4e77-834e-301e7d6dd082",
   "metadata": {
    "vscode": {
     "languageId": "python"
    }
   },
   "outputs": [
    {
     "data": {
      "text/plain": [
       "'guebin'"
      ]
     },
     "execution_count": 69,
     "metadata": {},
     "output_type": "execute_result"
    }
   ],
   "source": [
    "a"
   ]
  },
  {
   "cell_type": "markdown",
   "id": "c5232317-ad4d-4f2b-9a89-3724b0d2d581",
   "metadata": {},
   "source": [
    "- 6개의 칸에 글씨가 하나씩 들어가 있음. "
   ]
  },
  {
   "cell_type": "markdown",
   "id": "0e3881e3-6ae6-464a-8f65-b78e6bd17c66",
   "metadata": {},
   "source": [
    "`-` 대괄호 `[]`안에 숫자를 넣는 방식으로 벡터의 원소를 호출할 수 있다. (주의: 인덱스가 0부터 시작함) "
   ]
  },
  {
   "cell_type": "code",
   "execution_count": 72,
   "id": "06e592a1-43e4-4382-b539-6f52fa922ffa",
   "metadata": {
    "vscode": {
     "languageId": "python"
    }
   },
   "outputs": [
    {
     "data": {
      "text/plain": [
       "'g'"
      ]
     },
     "execution_count": 72,
     "metadata": {},
     "output_type": "execute_result"
    }
   ],
   "source": [
    "a[0] #첫번째원소"
   ]
  },
  {
   "cell_type": "code",
   "execution_count": 73,
   "id": "81aae692-d8c5-4c05-9f63-2810b24b9014",
   "metadata": {
    "vscode": {
     "languageId": "python"
    }
   },
   "outputs": [
    {
     "data": {
      "text/plain": [
       "'u'"
      ]
     },
     "execution_count": 73,
     "metadata": {},
     "output_type": "execute_result"
    }
   ],
   "source": [
    "a[1] #두번째원소 "
   ]
  },
  {
   "cell_type": "markdown",
   "id": "f300bf70-ab5d-414a-8b11-0528ea96f10a",
   "metadata": {},
   "source": [
    "마지막원소는 -1로 호출할 수도 있다. "
   ]
  },
  {
   "cell_type": "code",
   "execution_count": 114,
   "id": "823a0cdd-7737-4c8b-96fe-ef2fa3ebfe5c",
   "metadata": {
    "vscode": {
     "languageId": "python"
    }
   },
   "outputs": [
    {
     "data": {
      "text/plain": [
       "'n'"
      ]
     },
     "execution_count": 114,
     "metadata": {},
     "output_type": "execute_result"
    }
   ],
   "source": [
    "a[-1]"
   ]
  },
  {
   "cell_type": "markdown",
   "id": "ee660f26-ed5a-4ab4-8783-5f826246893d",
   "metadata": {},
   "source": [
    "마지막에서 2번째 원소는 -2로 호출가능하다. "
   ]
  },
  {
   "cell_type": "code",
   "execution_count": 115,
   "id": "1f32fdf1-70b4-4d83-b843-e6833f900dfb",
   "metadata": {
    "vscode": {
     "languageId": "python"
    }
   },
   "outputs": [
    {
     "data": {
      "text/plain": [
       "'i'"
      ]
     },
     "execution_count": 115,
     "metadata": {},
     "output_type": "execute_result"
    }
   ],
   "source": [
    "a[-2]"
   ]
  },
  {
   "cell_type": "markdown",
   "id": "6ea50c10-9de2-4149-a2cf-20938ac061d1",
   "metadata": {},
   "source": [
    "`-` 요약하면 아래와 같은 방식으로 호출가능함. "
   ]
  },
  {
   "cell_type": "markdown",
   "id": "7d6c1061-a64d-4eb2-ade4-c6b19d86704f",
   "metadata": {},
   "source": [
    "|g|u|e|b|i|n|\n",
    "|:-:|:-:|:-:|:-:|:-:|:-:|\n",
    "|0|1|2|3|4|5|\n",
    "|0|-5|-4|-3|-2|-1|"
   ]
  },
  {
   "cell_type": "code",
   "execution_count": 120,
   "id": "e34a5b25-32d3-4438-8112-c77198c1233b",
   "metadata": {
    "vscode": {
     "languageId": "python"
    }
   },
   "outputs": [
    {
     "data": {
      "text/plain": [
       "'i'"
      ]
     },
     "execution_count": 120,
     "metadata": {},
     "output_type": "execute_result"
    }
   ],
   "source": [
    "a[4]"
   ]
  },
  {
   "cell_type": "code",
   "execution_count": 121,
   "id": "675bb8ca-21bc-48d3-97c3-4e22ba3732c7",
   "metadata": {
    "vscode": {
     "languageId": "python"
    }
   },
   "outputs": [
    {
     "data": {
      "text/plain": [
       "'i'"
      ]
     },
     "execution_count": 121,
     "metadata": {},
     "output_type": "execute_result"
    }
   ],
   "source": [
    "a[-2]"
   ]
  },
  {
   "cell_type": "code",
   "execution_count": 123,
   "id": "464059b3-9346-40a7-abd8-305d6a594d9c",
   "metadata": {
    "vscode": {
     "languageId": "python"
    }
   },
   "outputs": [
    {
     "data": {
      "text/plain": [
       "'e'"
      ]
     },
     "execution_count": 123,
     "metadata": {},
     "output_type": "execute_result"
    }
   ],
   "source": [
    "a[-4]"
   ]
  },
  {
   "cell_type": "markdown",
   "id": "95c8b5d5-64d8-41d8-b97b-efcad4248dfd",
   "metadata": {},
   "source": [
    "`-` `:`을 이용하여 여러개의 원소를 호출할 수 있음. "
   ]
  },
  {
   "cell_type": "code",
   "execution_count": 78,
   "id": "5bf9e767-614b-4769-a4a0-76fe35ed38d8",
   "metadata": {
    "vscode": {
     "languageId": "python"
    }
   },
   "outputs": [],
   "source": [
    "a='guebin'"
   ]
  },
  {
   "cell_type": "code",
   "execution_count": 85,
   "id": "a00da720-b05a-4d1e-a3ba-d8a634ba4d44",
   "metadata": {
    "vscode": {
     "languageId": "python"
    }
   },
   "outputs": [
    {
     "data": {
      "text/plain": [
       "'gue'"
      ]
     },
     "execution_count": 85,
     "metadata": {},
     "output_type": "execute_result"
    }
   ],
   "source": [
    "a[0:3] # a[0],a[1],a[2],a[3]이 아니라 a[0],a[1],a[2]까지만 뽑힌다. 즉 마지막의 3은 호출되지 않는다. "
   ]
  },
  {
   "cell_type": "code",
   "execution_count": 86,
   "id": "6cc77d63-ecc8-4ff9-8a8a-14e6134c29bc",
   "metadata": {
    "vscode": {
     "languageId": "python"
    }
   },
   "outputs": [
    {
     "data": {
      "text/plain": [
       "'ue'"
      ]
     },
     "execution_count": 86,
     "metadata": {},
     "output_type": "execute_result"
    }
   ],
   "source": [
    "a[1:3] # a[1], a[2] 만 호출 // start=1,  stop=3 "
   ]
  },
  {
   "cell_type": "markdown",
   "id": "01015fc0-97af-4859-b23e-f015dcf5f9f0",
   "metadata": {},
   "source": [
    "index=1부터 시작해서 마지막원소까지 호출하려면? "
   ]
  },
  {
   "cell_type": "code",
   "execution_count": 130,
   "id": "61ffedc7-e9f4-4a51-b24e-47f555d1b7e3",
   "metadata": {
    "vscode": {
     "languageId": "python"
    }
   },
   "outputs": [
    {
     "data": {
      "text/plain": [
       "'n'"
      ]
     },
     "execution_count": 130,
     "metadata": {},
     "output_type": "execute_result"
    }
   ],
   "source": [
    "a[5] # guebin의 마지막원소 'n'이 출려 "
   ]
  },
  {
   "cell_type": "code",
   "execution_count": 135,
   "id": "56e8fcae-996f-467a-95d0-30d6f7753f57",
   "metadata": {
    "vscode": {
     "languageId": "python"
    }
   },
   "outputs": [
    {
     "data": {
      "text/plain": [
       "'uebi'"
      ]
     },
     "execution_count": 135,
     "metadata": {},
     "output_type": "execute_result"
    }
   ],
   "source": [
    "a[1:5] # 5는 포함되지 않으므로 틀림"
   ]
  },
  {
   "cell_type": "code",
   "execution_count": 136,
   "id": "23bb2f68-e8c6-4807-9163-7234ec2dc2ed",
   "metadata": {
    "vscode": {
     "languageId": "python"
    }
   },
   "outputs": [
    {
     "data": {
      "text/plain": [
       "'uebin'"
      ]
     },
     "execution_count": 136,
     "metadata": {},
     "output_type": "execute_result"
    }
   ],
   "source": [
    "a[1:6] # 정답"
   ]
  },
  {
   "cell_type": "markdown",
   "id": "2a5e7651-54ec-4fd2-b8e2-4b4296332025",
   "metadata": {},
   "source": [
    "안 헷갈리는 방법은 없을까? "
   ]
  },
  {
   "cell_type": "code",
   "execution_count": 137,
   "id": "0e92cbca-e12e-43da-b4a4-d34e03f5123b",
   "metadata": {
    "vscode": {
     "languageId": "python"
    }
   },
   "outputs": [
    {
     "data": {
      "text/plain": [
       "'n'"
      ]
     },
     "execution_count": 137,
     "metadata": {},
     "output_type": "execute_result"
    }
   ],
   "source": [
    "a[-1]"
   ]
  },
  {
   "cell_type": "code",
   "execution_count": 139,
   "id": "0a22edc4-2ae3-4524-a635-7d98d9dbc527",
   "metadata": {
    "vscode": {
     "languageId": "python"
    }
   },
   "outputs": [
    {
     "data": {
      "text/plain": [
       "'uebi'"
      ]
     },
     "execution_count": 139,
     "metadata": {},
     "output_type": "execute_result"
    }
   ],
   "source": [
    "a[1:-1] # 이것은 결국 (a[1:5]와 같은 것임) "
   ]
  },
  {
   "cell_type": "markdown",
   "id": "041bfb9d-ce85-4d76-94df-0f300f161d6b",
   "metadata": {},
   "source": [
    "해결책? 생략한다!!"
   ]
  },
  {
   "cell_type": "code",
   "execution_count": 140,
   "id": "d6729ef4-143d-4c5d-b273-96275ee11850",
   "metadata": {
    "vscode": {
     "languageId": "python"
    }
   },
   "outputs": [
    {
     "data": {
      "text/plain": [
       "'uebin'"
      ]
     },
     "execution_count": 140,
     "metadata": {},
     "output_type": "execute_result"
    }
   ],
   "source": [
    "a[1:]"
   ]
  },
  {
   "cell_type": "markdown",
   "id": "d743f701-b69d-4d09-87eb-05d537b1e4f2",
   "metadata": {},
   "source": [
    "`-` 생략의 응용1"
   ]
  },
  {
   "cell_type": "code",
   "execution_count": 158,
   "id": "95bb3db2-e27c-46d2-8fd0-987adec865c3",
   "metadata": {
    "vscode": {
     "languageId": "python"
    }
   },
   "outputs": [
    {
     "data": {
      "text/plain": [
       "'k-pop'"
      ]
     },
     "execution_count": 158,
     "metadata": {},
     "output_type": "execute_result"
    }
   ],
   "source": [
    "a='k-pop' \n",
    "a"
   ]
  },
  {
   "cell_type": "code",
   "execution_count": 159,
   "id": "5b30a784-c812-4dea-9b54-12ace60ea1ae",
   "metadata": {
    "vscode": {
     "languageId": "python"
    }
   },
   "outputs": [
    {
     "data": {
      "text/plain": [
       "'pop'"
      ]
     },
     "execution_count": 159,
     "metadata": {},
     "output_type": "execute_result"
    }
   ],
   "source": [
    "a[2:5]"
   ]
  },
  {
   "cell_type": "code",
   "execution_count": 160,
   "id": "6bd10531-d147-418b-92f1-2ee8fb9df290",
   "metadata": {
    "vscode": {
     "languageId": "python"
    }
   },
   "outputs": [
    {
     "data": {
      "text/plain": [
       "'pop'"
      ]
     },
     "execution_count": 160,
     "metadata": {},
     "output_type": "execute_result"
    }
   ],
   "source": [
    "a[2:]"
   ]
  },
  {
   "cell_type": "markdown",
   "id": "9c41e755-5bb2-48d0-b6dd-4162b317a335",
   "metadata": {},
   "source": [
    "`-` 생략의 응용2"
   ]
  },
  {
   "cell_type": "code",
   "execution_count": 161,
   "id": "394c5222-d819-46bc-a6c4-9884cee0a1a5",
   "metadata": {
    "vscode": {
     "languageId": "python"
    }
   },
   "outputs": [
    {
     "data": {
      "text/plain": [
       "'k-pop'"
      ]
     },
     "execution_count": 161,
     "metadata": {},
     "output_type": "execute_result"
    }
   ],
   "source": [
    "a='k-pop'\n",
    "a"
   ]
  },
  {
   "cell_type": "code",
   "execution_count": 163,
   "id": "62c9e60f-567c-4a01-89c4-7b0cae5992fe",
   "metadata": {
    "vscode": {
     "languageId": "python"
    }
   },
   "outputs": [
    {
     "data": {
      "text/plain": [
       "'k-'"
      ]
     },
     "execution_count": 163,
     "metadata": {},
     "output_type": "execute_result"
    }
   ],
   "source": [
    "a[0:2] # a[0],a[1]"
   ]
  },
  {
   "cell_type": "code",
   "execution_count": 165,
   "id": "5e9ddc5f-71b4-467a-b089-8744fd7fde1c",
   "metadata": {
    "vscode": {
     "languageId": "python"
    }
   },
   "outputs": [
    {
     "data": {
      "text/plain": [
       "'k-'"
      ]
     },
     "execution_count": 165,
     "metadata": {},
     "output_type": "execute_result"
    }
   ],
   "source": [
    "a[:2] # a[0],a[1] "
   ]
  },
  {
   "cell_type": "markdown",
   "id": "9974a84b-8dd4-4ae4-8367-edd392fd213e",
   "metadata": {},
   "source": [
    "`-` 생략의 응용3"
   ]
  },
  {
   "cell_type": "code",
   "execution_count": 166,
   "id": "e7cd56bd-8244-423e-af0c-7c5e06a9344f",
   "metadata": {
    "vscode": {
     "languageId": "python"
    }
   },
   "outputs": [
    {
     "data": {
      "text/plain": [
       "'k-pop'"
      ]
     },
     "execution_count": 166,
     "metadata": {},
     "output_type": "execute_result"
    }
   ],
   "source": [
    "a='k-pop'\n",
    "a"
   ]
  },
  {
   "cell_type": "code",
   "execution_count": 170,
   "id": "76900c79-a5ea-4cc2-a611-fb2340f9ceed",
   "metadata": {
    "vscode": {
     "languageId": "python"
    }
   },
   "outputs": [
    {
     "data": {
      "text/plain": [
       "'k-pop'"
      ]
     },
     "execution_count": 170,
     "metadata": {},
     "output_type": "execute_result"
    }
   ],
   "source": [
    "a[0:5] # a[0],...,a[4]"
   ]
  },
  {
   "cell_type": "code",
   "execution_count": 169,
   "id": "21699b82-47c0-4e43-9f59-5b3aa6307830",
   "metadata": {
    "vscode": {
     "languageId": "python"
    }
   },
   "outputs": [
    {
     "data": {
      "text/plain": [
       "'k-pop'"
      ]
     },
     "execution_count": 169,
     "metadata": {},
     "output_type": "execute_result"
    }
   ],
   "source": [
    "a[:]"
   ]
  },
  {
   "cell_type": "markdown",
   "id": "0dfd12c2-027f-4794-ba94-de583a8869cb",
   "metadata": {},
   "source": [
    "## str 특수기능 "
   ]
  },
  {
   "cell_type": "markdown",
   "id": "8bfb050b-db49-4bf6-b14e-afc97589de7c",
   "metadata": {},
   "source": [
    "`-` 파이썬의 변수는 단순히 정보를 담는 그릇이 아니다. 유용한 기능을 제공하는 경우가 있다. "
   ]
  },
  {
   "cell_type": "code",
   "execution_count": 18,
   "id": "c2df0d4c-59e8-4e00-86d8-3e00b8c2ce1d",
   "metadata": {
    "vscode": {
     "languageId": "python"
    }
   },
   "outputs": [
    {
     "data": {
      "text/plain": [
       "'ABCD'"
      ]
     },
     "execution_count": 18,
     "metadata": {},
     "output_type": "execute_result"
    }
   ],
   "source": [
    "a='ABCD' # a라는 변수는 'ABCD'라는 정보를 담는 그릇의 역할만 하지 않고, 특화된 어떠한 기능도 제공한다. \n",
    "a"
   ]
  },
  {
   "cell_type": "code",
   "execution_count": 19,
   "id": "7de6c11c-bdc4-4059-bd8a-e26e04985db5",
   "metadata": {
    "vscode": {
     "languageId": "python"
    }
   },
   "outputs": [
    {
     "data": {
      "text/plain": [
       "'abcd'"
      ]
     },
     "execution_count": 19,
     "metadata": {},
     "output_type": "execute_result"
    }
   ],
   "source": [
    "a.lower() # a.lower()를 쓰면 a의 모든 문자를 소문자로 바꾸는 기능을 제공, lower(a)라고 읽자!"
   ]
  },
  {
   "cell_type": "code",
   "execution_count": 20,
   "id": "b10e52d1-a246-4699-bb9b-bcb2114d4c81",
   "metadata": {},
   "outputs": [
    {
     "ename": "NameError",
     "evalue": "name 'lower' is not defined",
     "output_type": "error",
     "traceback": [
      "\u001b[0;31m---------------------------------------------------------------------------\u001b[0m",
      "\u001b[0;31mNameError\u001b[0m                                 Traceback (most recent call last)",
      "Input \u001b[0;32mIn [20]\u001b[0m, in \u001b[0;36m<cell line: 1>\u001b[0;34m()\u001b[0m\n\u001b[0;32m----> 1\u001b[0m \u001b[43mlower\u001b[49m(a)\n",
      "\u001b[0;31mNameError\u001b[0m: name 'lower' is not defined"
     ]
    }
   ],
   "source": [
    "lower(a)"
   ]
  },
  {
   "cell_type": "markdown",
   "id": "26aff093-fc24-445b-9bf4-9c4efd8ebf74",
   "metadata": {},
   "source": [
    "여기에서 lower()는 문자열에 특화된 기능임. 따라서 당연히 아래는 불가능 "
   ]
  },
  {
   "cell_type": "code",
   "execution_count": 194,
   "id": "3e87c453-9d96-4fb4-a9ed-72983744368c",
   "metadata": {
    "vscode": {
     "languageId": "python"
    }
   },
   "outputs": [
    {
     "ename": "AttributeError",
     "evalue": "'float' object has no attribute 'lower'",
     "output_type": "error",
     "traceback": [
      "\u001b[0;31m---------------------------------------------------------------------------\u001b[0m",
      "\u001b[0;31mAttributeError\u001b[0m                            Traceback (most recent call last)",
      "Input \u001b[0;32mIn [194]\u001b[0m, in \u001b[0;36m<module>\u001b[0;34m\u001b[0m\n\u001b[1;32m      1\u001b[0m a\u001b[38;5;241m=\u001b[39m\u001b[38;5;241m3.14\u001b[39m\n\u001b[0;32m----> 2\u001b[0m \u001b[43ma\u001b[49m\u001b[38;5;241;43m.\u001b[39;49m\u001b[43mlower\u001b[49m()\n",
      "\u001b[0;31mAttributeError\u001b[0m: 'float' object has no attribute 'lower'"
     ]
    }
   ],
   "source": [
    "a=3.14\n",
    "a.lower() # lower(a)"
   ]
  },
  {
   "cell_type": "markdown",
   "id": "eb01dcf3-364d-46cd-abb9-ae4b7099fcd5",
   "metadata": {},
   "source": [
    "`-` 자료형에 특화된 기능(=함수)을 확인하는 방법? `a.`+ `tab` 으로 목록 확인 가능 "
   ]
  },
  {
   "cell_type": "code",
   "execution_count": 21,
   "id": "053be390-5dac-472c-89d2-257cedb332cb",
   "metadata": {
    "vscode": {
     "languageId": "python"
    }
   },
   "outputs": [],
   "source": [
    "a='guebin'"
   ]
  },
  {
   "attachments": {
    "d9fae640-70a8-4622-94c1-7da141656dee.png": {
     "image/png": "[encoded data removed]"
    }
   },
   "cell_type": "markdown",
   "id": "a3258498-4e78-4eaa-8d32-39b60f437019",
   "metadata": {},
   "source": [
    "![image.png](attachment:d9fae640-70a8-4622-94c1-7da141656dee.png)"
   ]
  },
  {
   "cell_type": "code",
   "execution_count": 191,
   "id": "f60791d5-52d5-4e6b-abe4-a646cec23d11",
   "metadata": {
    "vscode": {
     "languageId": "python"
    }
   },
   "outputs": [
    {
     "data": {
      "text/plain": [
       "\u001b[0;31mSignature:\u001b[0m \u001b[0ma\u001b[0m\u001b[0;34m.\u001b[0m\u001b[0mupper\u001b[0m\u001b[0;34m(\u001b[0m\u001b[0;34m)\u001b[0m\u001b[0;34m\u001b[0m\u001b[0;34m\u001b[0m\u001b[0m\n",
       "\u001b[0;31mDocstring:\u001b[0m Return a copy of the string converted to uppercase.\n",
       "\u001b[0;31mType:\u001b[0m      builtin_function_or_method\n"
      ]
     },
     "metadata": {},
     "output_type": "display_data"
    }
   ],
   "source": [
    "a.upper?"
   ]
  },
  {
   "cell_type": "code",
   "execution_count": 192,
   "id": "978d7e30-641f-4553-8b53-e4fa17a8ab54",
   "metadata": {
    "vscode": {
     "languageId": "python"
    }
   },
   "outputs": [
    {
     "data": {
      "text/plain": [
       "'GUEBIN'"
      ]
     },
     "execution_count": 192,
     "metadata": {},
     "output_type": "execute_result"
    }
   ],
   "source": [
    "a.upper() # upper(a) "
   ]
  },
  {
   "cell_type": "code",
   "execution_count": 193,
   "id": "1c4b5782-f7db-47e1-8270-038eb2e9c302",
   "metadata": {
    "vscode": {
     "languageId": "python"
    }
   },
   "outputs": [
    {
     "data": {
      "text/plain": [
       "'Guebin'"
      ]
     },
     "execution_count": 193,
     "metadata": {},
     "output_type": "execute_result"
    }
   ],
   "source": [
    "a.capitalize() # capitalize(a) "
   ]
  },
  {
   "cell_type": "markdown",
   "id": "50d72fcc-12d1-4a42-ae0c-16b3af4435fc",
   "metadata": {},
   "source": [
    "`-` 문자열에 대한 다른 내용들은 추후에 다루겠음. "
   ]
  },
  {
   "cell_type": "markdown",
   "id": "3e410d12-73c2-44bc-8ac0-604e9e68a332",
   "metadata": {},
   "source": [
    "`-` 마음의눈: `a.f()` 형태를 읽는 팁\n",
    "- `a.f()`는 `f(a)`로 생각하면 편리함. \n",
    "- `a.f(2)`는 `f(a,2)`로 생각하면 편리함. \n",
    "- 이런점에서 R `%>%` 연산자와 비슷하다고 생각할 수 있다. (약간 다르긴함) "
   ]
  },
  {
   "cell_type": "markdown",
   "id": "94d9a19b-f1a2-4864-8414-13fb2f5e81b4",
   "metadata": {},
   "source": [
    "`-` 사실 `.`은 좀 더 다양한 상황에서 쓰일 수 있다. `변수이름.함수이름()` 의 형태가 아니라 \n",
    "- `패지키이름.함수이름()`\n",
    "- `패키지이름.변수이름` \n",
    "- `패키지이름.패키지이름.함수이름()` \n",
    "- ... \n",
    "\n",
    "와 같이 다양한 형태가 가능하다. 근본적인 공통점은 `.`을 기준으로 `상위개념.하위개념` 으로 이해하는 것이 좋다. "
   ]
  },
  {
   "cell_type": "markdown",
   "id": "79bf3c6d-5db0-4f90-9512-d7cea939ced0",
   "metadata": {},
   "source": [
    "***0차원 vs 1차원***"
   ]
  },
  {
   "cell_type": "markdown",
   "id": "5c6f0063-363e-46b4-b514-eaa729a444cc",
   "metadata": {},
   "source": [
    "`-` `len`함수 소개: 원소의 갯수를 알려주는 함수. "
   ]
  },
  {
   "cell_type": "markdown",
   "id": "93734ec0-0ab7-4da2-a63d-9f4269062bdc",
   "metadata": {},
   "source": [
    "(0차원) `len` 함수가 동작하지 않음."
   ]
  },
  {
   "cell_type": "code",
   "execution_count": 196,
   "id": "207d5921-34aa-4a65-8884-92dacf58ea09",
   "metadata": {
    "vscode": {
     "languageId": "python"
    }
   },
   "outputs": [],
   "source": [
    "a=3.14"
   ]
  },
  {
   "cell_type": "code",
   "execution_count": 197,
   "id": "7fad7d27-b9d5-42f5-8f2a-e40cebcc4995",
   "metadata": {
    "vscode": {
     "languageId": "python"
    }
   },
   "outputs": [
    {
     "ename": "TypeError",
     "evalue": "object of type 'float' has no len()",
     "output_type": "error",
     "traceback": [
      "\u001b[0;31m---------------------------------------------------------------------------\u001b[0m",
      "\u001b[0;31mTypeError\u001b[0m                                 Traceback (most recent call last)",
      "Input \u001b[0;32mIn [197]\u001b[0m, in \u001b[0;36m<module>\u001b[0;34m\u001b[0m\n\u001b[0;32m----> 1\u001b[0m \u001b[38;5;28;43mlen\u001b[39;49m\u001b[43m(\u001b[49m\u001b[43ma\u001b[49m\u001b[43m)\u001b[49m\n",
      "\u001b[0;31mTypeError\u001b[0m: object of type 'float' has no len()"
     ]
    }
   ],
   "source": [
    "len(a)"
   ]
  },
  {
   "cell_type": "code",
   "execution_count": 200,
   "id": "e015e29c-707b-41b9-b344-21139fe0eb7e",
   "metadata": {
    "vscode": {
     "languageId": "python"
    }
   },
   "outputs": [],
   "source": [
    "b=True"
   ]
  },
  {
   "cell_type": "code",
   "execution_count": 201,
   "id": "332e1623-b832-48cb-b799-2bffac504298",
   "metadata": {
    "vscode": {
     "languageId": "python"
    }
   },
   "outputs": [
    {
     "ename": "TypeError",
     "evalue": "object of type 'bool' has no len()",
     "output_type": "error",
     "traceback": [
      "\u001b[0;31m---------------------------------------------------------------------------\u001b[0m",
      "\u001b[0;31mTypeError\u001b[0m                                 Traceback (most recent call last)",
      "Input \u001b[0;32mIn [201]\u001b[0m, in \u001b[0;36m<module>\u001b[0;34m\u001b[0m\n\u001b[0;32m----> 1\u001b[0m \u001b[38;5;28;43mlen\u001b[39;49m\u001b[43m(\u001b[49m\u001b[43mb\u001b[49m\u001b[43m)\u001b[49m\n",
      "\u001b[0;31mTypeError\u001b[0m: object of type 'bool' has no len()"
     ]
    }
   ],
   "source": [
    "len(b)"
   ]
  },
  {
   "cell_type": "markdown",
   "id": "8e894a90-6cb4-4270-a20b-ab5134fdd43d",
   "metadata": {},
   "source": [
    "(1차원) `len` 함수가 잘 동작함. "
   ]
  },
  {
   "cell_type": "code",
   "execution_count": 198,
   "id": "aa82d04e-89c2-4176-b86a-1f7891843c18",
   "metadata": {
    "vscode": {
     "languageId": "python"
    }
   },
   "outputs": [
    {
     "data": {
      "text/plain": [
       "4"
      ]
     },
     "execution_count": 198,
     "metadata": {},
     "output_type": "execute_result"
    }
   ],
   "source": [
    "a='3.14'\n",
    "len(a)"
   ]
  },
  {
   "cell_type": "code",
   "execution_count": 202,
   "id": "0e3455bc-144e-4f7b-aee0-e3fce07185a2",
   "metadata": {
    "vscode": {
     "languageId": "python"
    }
   },
   "outputs": [],
   "source": [
    "b=[1,2,3]"
   ]
  },
  {
   "cell_type": "code",
   "execution_count": 203,
   "id": "1d0d92e4-6d9b-4ff3-ab6b-ff638dde8051",
   "metadata": {
    "vscode": {
     "languageId": "python"
    }
   },
   "outputs": [
    {
     "data": {
      "text/plain": [
       "3"
      ]
     },
     "execution_count": 203,
     "metadata": {},
     "output_type": "execute_result"
    }
   ],
   "source": [
    "len(b)"
   ]
  },
  {
   "cell_type": "markdown",
   "id": "1804c244-1959-4b67-a37f-e9a19910a855",
   "metadata": {},
   "source": [
    "***Quiz***"
   ]
  },
  {
   "cell_type": "markdown",
   "id": "20dea742-d33b-4e34-82ec-519fffd6a33a",
   "metadata": {},
   "source": [
    "본인이름으로 str을 생성 \n",
    "\n",
    "- 성만 출력 \n",
    "- 이름만 출력"
   ]
  },
  {
   "cell_type": "markdown",
   "id": "7f820d6b-e0aa-44dc-a30a-be3781b6a62e",
   "metadata": {},
   "source": [
    "(예시) "
   ]
  },
  {
   "cell_type": "code",
   "execution_count": 205,
   "id": "75d53714-0ffe-495f-aaad-b1db79993a60",
   "metadata": {
    "vscode": {
     "languageId": "python"
    }
   },
   "outputs": [],
   "source": [
    "a='GuebinChoi'"
   ]
  },
  {
   "cell_type": "code",
   "execution_count": 207,
   "id": "0a40ab4d-1c55-4695-9169-c32c6cd3bbdc",
   "metadata": {
    "vscode": {
     "languageId": "python"
    }
   },
   "outputs": [
    {
     "data": {
      "text/plain": [
       "'Guebin'"
      ]
     },
     "execution_count": 207,
     "metadata": {},
     "output_type": "execute_result"
    }
   ],
   "source": [
    "a[:6]"
   ]
  },
  {
   "cell_type": "code",
   "execution_count": 208,
   "id": "d41f00e8-b27d-4c9b-9b50-4542eccd11a8",
   "metadata": {
    "vscode": {
     "languageId": "python"
    }
   },
   "outputs": [
    {
     "data": {
      "text/plain": [
       "'Choi'"
      ]
     },
     "execution_count": 208,
     "metadata": {},
     "output_type": "execute_result"
    }
   ],
   "source": [
    "a[6:]"
   ]
  }
 ],
 "metadata": {
  "kernelspec": {
   "display_name": "Python 3 (ipykernel)",
   "language": "python",
   "name": "python3"
  },
  "language_info": {
   "codemirror_mode": {
    "name": "ipython",
    "version": 3
   },
   "file_extension": ".py",
   "mimetype": "text/x-python",
   "name": "python",
   "nbconvert_exporter": "python",
   "pygments_lexer": "ipython3",
   "version": "3.9.12"
  }
 },
 "nbformat": 4,
 "nbformat_minor": 5
}
